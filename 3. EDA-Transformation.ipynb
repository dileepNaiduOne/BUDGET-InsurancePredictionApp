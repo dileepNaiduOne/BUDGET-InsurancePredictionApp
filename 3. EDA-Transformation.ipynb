{
 "cells": [
  {
   "cell_type": "code",
   "execution_count": 208,
   "id": "df3f0384-aed3-4363-a04d-4487233e8d26",
   "metadata": {
    "execution": {
     "iopub.execute_input": "2024-12-14T09:29:51.722159Z",
     "iopub.status.busy": "2024-12-14T09:29:51.721100Z",
     "iopub.status.idle": "2024-12-14T09:29:51.737433Z",
     "shell.execute_reply": "2024-12-14T09:29:51.736384Z",
     "shell.execute_reply.started": "2024-12-14T09:29:51.722159Z"
    }
   },
   "outputs": [],
   "source": [
    "import numpy as np\n",
    "import pandas as pd\n",
    "import seaborn as sns\n",
    "import matplotlib.pyplot as plt\n",
    "from scipy.stats import *\n",
    "import xgboost as xgb\n",
    "\n",
    "from sklearn.preprocessing import PowerTransformer\n",
    "\n",
    "\n",
    "import warnings\n",
    "warnings.filterwarnings(\"ignore\")\n",
    "pd.set_option(\"display.max_columns\", None)"
   ]
  },
  {
   "cell_type": "code",
   "execution_count": 209,
   "id": "945bd16f-a1d0-4630-83bb-544ef8a65825",
   "metadata": {
    "execution": {
     "iopub.execute_input": "2024-12-14T09:29:51.740446Z",
     "iopub.status.busy": "2024-12-14T09:29:51.740446Z",
     "iopub.status.idle": "2024-12-14T09:29:58.508673Z",
     "shell.execute_reply": "2024-12-14T09:29:58.508673Z",
     "shell.execute_reply.started": "2024-12-14T09:29:51.740446Z"
    }
   },
   "outputs": [],
   "source": [
    "df = pd.read_csv(\"cleaned_df.csv\")\n",
    "\n",
    "df[\"Policy Start Date\"] = pd.to_datetime(df[\"Policy Start Date\"])"
   ]
  },
  {
   "cell_type": "code",
   "execution_count": 210,
   "id": "465d9542-de66-46d5-aaa1-931a126a7ce5",
   "metadata": {
    "execution": {
     "iopub.execute_input": "2024-12-14T09:29:58.510181Z",
     "iopub.status.busy": "2024-12-14T09:29:58.510181Z",
     "iopub.status.idle": "2024-12-14T09:29:58.517487Z",
     "shell.execute_reply": "2024-12-14T09:29:58.516271Z",
     "shell.execute_reply.started": "2024-12-14T09:29:58.510181Z"
    }
   },
   "outputs": [
    {
     "data": {
      "text/plain": [
       "(2000000, 20)"
      ]
     },
     "execution_count": 210,
     "metadata": {},
     "output_type": "execute_result"
    }
   ],
   "source": [
    "df.shape"
   ]
  },
  {
   "cell_type": "code",
   "execution_count": 211,
   "id": "9d636f38-adc3-4225-a045-64852ea31b16",
   "metadata": {
    "execution": {
     "iopub.execute_input": "2024-12-14T09:29:58.518632Z",
     "iopub.status.busy": "2024-12-14T09:29:58.517487Z",
     "iopub.status.idle": "2024-12-14T09:29:59.328059Z",
     "shell.execute_reply": "2024-12-14T09:29:59.328059Z",
     "shell.execute_reply.started": "2024-12-14T09:29:58.518632Z"
    }
   },
   "outputs": [
    {
     "data": {
      "text/plain": [
       "Age                          0\n",
       "Gender                       0\n",
       "Annual Income                0\n",
       "Marital Status               0\n",
       "Number of Dependents         0\n",
       "Education Level              0\n",
       "Occupation                   0\n",
       "Health Score                 0\n",
       "Location                     0\n",
       "Policy Type                  0\n",
       "Previous Claims              0\n",
       "Vehicle Age                  0\n",
       "Credit Score                 0\n",
       "Insurance Duration           0\n",
       "Policy Start Date            0\n",
       "Customer Feedback            0\n",
       "Smoking Status               0\n",
       "Exercise Frequency           0\n",
       "Property Type                0\n",
       "Premium Amount          800000\n",
       "dtype: int64"
      ]
     },
     "execution_count": 211,
     "metadata": {},
     "output_type": "execute_result"
    }
   ],
   "source": [
    "df.isnull().sum()"
   ]
  },
  {
   "cell_type": "code",
   "execution_count": 212,
   "id": "e9dd8f45-c9c7-44de-b58c-c053f4155606",
   "metadata": {
    "execution": {
     "iopub.execute_input": "2024-12-14T09:29:59.330281Z",
     "iopub.status.busy": "2024-12-14T09:29:59.330281Z",
     "iopub.status.idle": "2024-12-14T09:29:59.337271Z",
     "shell.execute_reply": "2024-12-14T09:29:59.336244Z",
     "shell.execute_reply.started": "2024-12-14T09:29:59.330281Z"
    }
   },
   "outputs": [
    {
     "data": {
      "text/plain": [
       "(1200000, 20)"
      ]
     },
     "execution_count": 212,
     "metadata": {},
     "output_type": "execute_result"
    }
   ],
   "source": [
    "train = df.iloc[:1200000, :]\n",
    "train.shape"
   ]
  },
  {
   "cell_type": "code",
   "execution_count": 213,
   "id": "be9f265e-c388-47c2-b0de-7b2a6e8d5bbb",
   "metadata": {
    "execution": {
     "iopub.execute_input": "2024-12-14T09:29:59.337271Z",
     "iopub.status.busy": "2024-12-14T09:29:59.337271Z",
     "iopub.status.idle": "2024-12-14T09:29:59.344369Z",
     "shell.execute_reply": "2024-12-14T09:29:59.343840Z",
     "shell.execute_reply.started": "2024-12-14T09:29:59.337271Z"
    }
   },
   "outputs": [
    {
     "data": {
      "text/plain": [
       "(800000, 20)"
      ]
     },
     "execution_count": 213,
     "metadata": {},
     "output_type": "execute_result"
    }
   ],
   "source": [
    "test = df.iloc[1200000:, :]\n",
    "test.shape"
   ]
  },
  {
   "cell_type": "code",
   "execution_count": 214,
   "id": "1e9a13cb-705b-4386-9400-d5acf3d6d6ff",
   "metadata": {
    "execution": {
     "iopub.execute_input": "2024-12-14T09:29:59.345824Z",
     "iopub.status.busy": "2024-12-14T09:29:59.344369Z",
     "iopub.status.idle": "2024-12-14T09:29:59.363010Z",
     "shell.execute_reply": "2024-12-14T09:29:59.361971Z",
     "shell.execute_reply.started": "2024-12-14T09:29:59.345824Z"
    }
   },
   "outputs": [
    {
     "data": {
      "text/html": [
       "<div>\n",
       "<style scoped>\n",
       "    .dataframe tbody tr th:only-of-type {\n",
       "        vertical-align: middle;\n",
       "    }\n",
       "\n",
       "    .dataframe tbody tr th {\n",
       "        vertical-align: top;\n",
       "    }\n",
       "\n",
       "    .dataframe thead th {\n",
       "        text-align: right;\n",
       "    }\n",
       "</style>\n",
       "<table border=\"1\" class=\"dataframe\">\n",
       "  <thead>\n",
       "    <tr style=\"text-align: right;\">\n",
       "      <th></th>\n",
       "      <th>Age</th>\n",
       "      <th>Gender</th>\n",
       "      <th>Annual Income</th>\n",
       "      <th>Marital Status</th>\n",
       "      <th>Number of Dependents</th>\n",
       "      <th>Education Level</th>\n",
       "      <th>Occupation</th>\n",
       "      <th>Health Score</th>\n",
       "      <th>Location</th>\n",
       "      <th>Policy Type</th>\n",
       "      <th>Previous Claims</th>\n",
       "      <th>Vehicle Age</th>\n",
       "      <th>Credit Score</th>\n",
       "      <th>Insurance Duration</th>\n",
       "      <th>Policy Start Date</th>\n",
       "      <th>Customer Feedback</th>\n",
       "      <th>Smoking Status</th>\n",
       "      <th>Exercise Frequency</th>\n",
       "      <th>Property Type</th>\n",
       "      <th>Premium Amount</th>\n",
       "    </tr>\n",
       "  </thead>\n",
       "  <tbody>\n",
       "    <tr>\n",
       "      <th>1200000</th>\n",
       "      <td>28.0</td>\n",
       "      <td>Female</td>\n",
       "      <td>2310.0</td>\n",
       "      <td>Single</td>\n",
       "      <td>4.0</td>\n",
       "      <td>Bachelor's</td>\n",
       "      <td>Self-Employed</td>\n",
       "      <td>7.657981</td>\n",
       "      <td>Rural</td>\n",
       "      <td>Basic</td>\n",
       "      <td>2.0</td>\n",
       "      <td>19.0</td>\n",
       "      <td>493.0</td>\n",
       "      <td>1.0</td>\n",
       "      <td>2023-06-04 15:21:39.245086</td>\n",
       "      <td>Poor</td>\n",
       "      <td>Yes</td>\n",
       "      <td>Weekly</td>\n",
       "      <td>House</td>\n",
       "      <td>NaN</td>\n",
       "    </tr>\n",
       "    <tr>\n",
       "      <th>1200001</th>\n",
       "      <td>31.0</td>\n",
       "      <td>Female</td>\n",
       "      <td>126031.0</td>\n",
       "      <td>Married</td>\n",
       "      <td>2.0</td>\n",
       "      <td>Master's</td>\n",
       "      <td>Self-Employed</td>\n",
       "      <td>13.381379</td>\n",
       "      <td>Suburban</td>\n",
       "      <td>Premium</td>\n",
       "      <td>1.0</td>\n",
       "      <td>14.0</td>\n",
       "      <td>372.0</td>\n",
       "      <td>8.0</td>\n",
       "      <td>2024-04-22 15:21:39.224915</td>\n",
       "      <td>Good</td>\n",
       "      <td>Yes</td>\n",
       "      <td>Rarely</td>\n",
       "      <td>Apartment</td>\n",
       "      <td>NaN</td>\n",
       "    </tr>\n",
       "    <tr>\n",
       "      <th>1200002</th>\n",
       "      <td>47.0</td>\n",
       "      <td>Female</td>\n",
       "      <td>17092.0</td>\n",
       "      <td>Divorced</td>\n",
       "      <td>0.0</td>\n",
       "      <td>PhD</td>\n",
       "      <td>Unemployed</td>\n",
       "      <td>24.354527</td>\n",
       "      <td>Urban</td>\n",
       "      <td>Comprehensive</td>\n",
       "      <td>1.0</td>\n",
       "      <td>16.0</td>\n",
       "      <td>819.0</td>\n",
       "      <td>9.0</td>\n",
       "      <td>2023-04-05 15:21:39.134960</td>\n",
       "      <td>Average</td>\n",
       "      <td>Yes</td>\n",
       "      <td>Monthly</td>\n",
       "      <td>Condo</td>\n",
       "      <td>NaN</td>\n",
       "    </tr>\n",
       "  </tbody>\n",
       "</table>\n",
       "</div>"
      ],
      "text/plain": [
       "          Age  Gender  Annual Income Marital Status  Number of Dependents  \\\n",
       "1200000  28.0  Female         2310.0         Single                   4.0   \n",
       "1200001  31.0  Female       126031.0        Married                   2.0   \n",
       "1200002  47.0  Female        17092.0       Divorced                   0.0   \n",
       "\n",
       "        Education Level     Occupation  Health Score  Location    Policy Type  \\\n",
       "1200000      Bachelor's  Self-Employed      7.657981     Rural          Basic   \n",
       "1200001        Master's  Self-Employed     13.381379  Suburban        Premium   \n",
       "1200002             PhD     Unemployed     24.354527     Urban  Comprehensive   \n",
       "\n",
       "         Previous Claims  Vehicle Age  Credit Score  Insurance Duration  \\\n",
       "1200000              2.0         19.0         493.0                 1.0   \n",
       "1200001              1.0         14.0         372.0                 8.0   \n",
       "1200002              1.0         16.0         819.0                 9.0   \n",
       "\n",
       "                 Policy Start Date Customer Feedback Smoking Status  \\\n",
       "1200000 2023-06-04 15:21:39.245086              Poor            Yes   \n",
       "1200001 2024-04-22 15:21:39.224915              Good            Yes   \n",
       "1200002 2023-04-05 15:21:39.134960           Average            Yes   \n",
       "\n",
       "        Exercise Frequency Property Type  Premium Amount  \n",
       "1200000             Weekly         House             NaN  \n",
       "1200001             Rarely     Apartment             NaN  \n",
       "1200002            Monthly         Condo             NaN  "
      ]
     },
     "execution_count": 214,
     "metadata": {},
     "output_type": "execute_result"
    }
   ],
   "source": [
    "test.head(3)"
   ]
  },
  {
   "cell_type": "markdown",
   "id": "d899e2a6-1cdf-4aca-b5b7-e9e59f38ede4",
   "metadata": {},
   "source": [
    "#\n",
    "---\n",
    "#"
   ]
  },
  {
   "cell_type": "markdown",
   "id": "30f650c9-d554-4556-82e0-3f3e13eeb75e",
   "metadata": {},
   "source": [
    "# Adding Dates columns"
   ]
  },
  {
   "cell_type": "code",
   "execution_count": 215,
   "id": "0ba3a4e7-dc4b-4a13-af35-cb8eb5c3e434",
   "metadata": {
    "execution": {
     "iopub.execute_input": "2024-12-14T09:29:59.364011Z",
     "iopub.status.busy": "2024-12-14T09:29:59.364011Z",
     "iopub.status.idle": "2024-12-14T09:29:59.724396Z",
     "shell.execute_reply": "2024-12-14T09:29:59.724396Z",
     "shell.execute_reply.started": "2024-12-14T09:29:59.364011Z"
    }
   },
   "outputs": [],
   "source": [
    "df[\"Policy Start Date - Day\"] = df[\"Policy Start Date\"].dt.day\n",
    "df[\"Policy Start Date - Month\"] = df[\"Policy Start Date\"].dt.month\n",
    "df[\"Policy Start Date - Year\"] = df[\"Policy Start Date\"].dt.year"
   ]
  },
  {
   "cell_type": "code",
   "execution_count": 216,
   "id": "69ed6a43-eb8f-40c1-8415-f2940606a7df",
   "metadata": {
    "execution": {
     "iopub.execute_input": "2024-12-14T09:29:59.724396Z",
     "iopub.status.busy": "2024-12-14T09:29:59.724396Z",
     "iopub.status.idle": "2024-12-14T09:30:01.005888Z",
     "shell.execute_reply": "2024-12-14T09:30:01.005888Z",
     "shell.execute_reply.started": "2024-12-14T09:29:59.724396Z"
    }
   },
   "outputs": [],
   "source": [
    "df[\"Policy Start Date - Quarter\"] = df[\"Policy Start Date\"].dt.year.astype(str) + \" Q\" + df[\"Policy Start Date\"].dt.quarter.astype(str)"
   ]
  },
  {
   "cell_type": "code",
   "execution_count": 217,
   "id": "86cb06d5-111f-46eb-bd8d-1645f92e1124",
   "metadata": {
    "execution": {
     "iopub.execute_input": "2024-12-14T09:30:01.008398Z",
     "iopub.status.busy": "2024-12-14T09:30:01.005888Z",
     "iopub.status.idle": "2024-12-14T09:30:01.033013Z",
     "shell.execute_reply": "2024-12-14T09:30:01.031128Z",
     "shell.execute_reply.started": "2024-12-14T09:30:01.008398Z"
    }
   },
   "outputs": [
    {
     "data": {
      "text/html": [
       "<div>\n",
       "<style scoped>\n",
       "    .dataframe tbody tr th:only-of-type {\n",
       "        vertical-align: middle;\n",
       "    }\n",
       "\n",
       "    .dataframe tbody tr th {\n",
       "        vertical-align: top;\n",
       "    }\n",
       "\n",
       "    .dataframe thead th {\n",
       "        text-align: right;\n",
       "    }\n",
       "</style>\n",
       "<table border=\"1\" class=\"dataframe\">\n",
       "  <thead>\n",
       "    <tr style=\"text-align: right;\">\n",
       "      <th></th>\n",
       "      <th>Age</th>\n",
       "      <th>Gender</th>\n",
       "      <th>Annual Income</th>\n",
       "      <th>Marital Status</th>\n",
       "      <th>Number of Dependents</th>\n",
       "      <th>Education Level</th>\n",
       "      <th>Occupation</th>\n",
       "      <th>Health Score</th>\n",
       "      <th>Location</th>\n",
       "      <th>Policy Type</th>\n",
       "      <th>Previous Claims</th>\n",
       "      <th>Vehicle Age</th>\n",
       "      <th>Credit Score</th>\n",
       "      <th>Insurance Duration</th>\n",
       "      <th>Policy Start Date</th>\n",
       "      <th>Customer Feedback</th>\n",
       "      <th>Smoking Status</th>\n",
       "      <th>Exercise Frequency</th>\n",
       "      <th>Property Type</th>\n",
       "      <th>Premium Amount</th>\n",
       "      <th>Policy Start Date - Day</th>\n",
       "      <th>Policy Start Date - Month</th>\n",
       "      <th>Policy Start Date - Year</th>\n",
       "      <th>Policy Start Date - Quarter</th>\n",
       "    </tr>\n",
       "  </thead>\n",
       "  <tbody>\n",
       "    <tr>\n",
       "      <th>0</th>\n",
       "      <td>19.0</td>\n",
       "      <td>Female</td>\n",
       "      <td>10049.0</td>\n",
       "      <td>Married</td>\n",
       "      <td>1.0</td>\n",
       "      <td>Bachelor's</td>\n",
       "      <td>Self-Employed</td>\n",
       "      <td>22.598761</td>\n",
       "      <td>Urban</td>\n",
       "      <td>Premium</td>\n",
       "      <td>2.0</td>\n",
       "      <td>17.0</td>\n",
       "      <td>372.0</td>\n",
       "      <td>5.0</td>\n",
       "      <td>2023-12-23 15:21:39.134960</td>\n",
       "      <td>Poor</td>\n",
       "      <td>No</td>\n",
       "      <td>Weekly</td>\n",
       "      <td>House</td>\n",
       "      <td>2869.0</td>\n",
       "      <td>23</td>\n",
       "      <td>12</td>\n",
       "      <td>2023</td>\n",
       "      <td>2023 Q4</td>\n",
       "    </tr>\n",
       "    <tr>\n",
       "      <th>1</th>\n",
       "      <td>39.0</td>\n",
       "      <td>Female</td>\n",
       "      <td>31678.0</td>\n",
       "      <td>Divorced</td>\n",
       "      <td>3.0</td>\n",
       "      <td>Master's</td>\n",
       "      <td>Self-Employed</td>\n",
       "      <td>15.569731</td>\n",
       "      <td>Rural</td>\n",
       "      <td>Comprehensive</td>\n",
       "      <td>1.0</td>\n",
       "      <td>12.0</td>\n",
       "      <td>694.0</td>\n",
       "      <td>2.0</td>\n",
       "      <td>2023-06-12 15:21:39.111551</td>\n",
       "      <td>Average</td>\n",
       "      <td>Yes</td>\n",
       "      <td>Monthly</td>\n",
       "      <td>House</td>\n",
       "      <td>1483.0</td>\n",
       "      <td>12</td>\n",
       "      <td>6</td>\n",
       "      <td>2023</td>\n",
       "      <td>2023 Q2</td>\n",
       "    </tr>\n",
       "    <tr>\n",
       "      <th>2</th>\n",
       "      <td>23.0</td>\n",
       "      <td>Male</td>\n",
       "      <td>25602.0</td>\n",
       "      <td>Divorced</td>\n",
       "      <td>3.0</td>\n",
       "      <td>High School</td>\n",
       "      <td>Self-Employed</td>\n",
       "      <td>47.177549</td>\n",
       "      <td>Suburban</td>\n",
       "      <td>Premium</td>\n",
       "      <td>1.0</td>\n",
       "      <td>14.0</td>\n",
       "      <td>555.0</td>\n",
       "      <td>3.0</td>\n",
       "      <td>2023-09-30 15:21:39.221386</td>\n",
       "      <td>Good</td>\n",
       "      <td>Yes</td>\n",
       "      <td>Weekly</td>\n",
       "      <td>House</td>\n",
       "      <td>567.0</td>\n",
       "      <td>30</td>\n",
       "      <td>9</td>\n",
       "      <td>2023</td>\n",
       "      <td>2023 Q3</td>\n",
       "    </tr>\n",
       "  </tbody>\n",
       "</table>\n",
       "</div>"
      ],
      "text/plain": [
       "    Age  Gender  Annual Income Marital Status  Number of Dependents  \\\n",
       "0  19.0  Female        10049.0        Married                   1.0   \n",
       "1  39.0  Female        31678.0       Divorced                   3.0   \n",
       "2  23.0    Male        25602.0       Divorced                   3.0   \n",
       "\n",
       "  Education Level     Occupation  Health Score  Location    Policy Type  \\\n",
       "0      Bachelor's  Self-Employed     22.598761     Urban        Premium   \n",
       "1        Master's  Self-Employed     15.569731     Rural  Comprehensive   \n",
       "2     High School  Self-Employed     47.177549  Suburban        Premium   \n",
       "\n",
       "   Previous Claims  Vehicle Age  Credit Score  Insurance Duration  \\\n",
       "0              2.0         17.0         372.0                 5.0   \n",
       "1              1.0         12.0         694.0                 2.0   \n",
       "2              1.0         14.0         555.0                 3.0   \n",
       "\n",
       "           Policy Start Date Customer Feedback Smoking Status  \\\n",
       "0 2023-12-23 15:21:39.134960              Poor             No   \n",
       "1 2023-06-12 15:21:39.111551           Average            Yes   \n",
       "2 2023-09-30 15:21:39.221386              Good            Yes   \n",
       "\n",
       "  Exercise Frequency Property Type  Premium Amount  Policy Start Date - Day  \\\n",
       "0             Weekly         House          2869.0                       23   \n",
       "1            Monthly         House          1483.0                       12   \n",
       "2             Weekly         House           567.0                       30   \n",
       "\n",
       "   Policy Start Date - Month  Policy Start Date - Year  \\\n",
       "0                         12                      2023   \n",
       "1                          6                      2023   \n",
       "2                          9                      2023   \n",
       "\n",
       "  Policy Start Date - Quarter  \n",
       "0                     2023 Q4  \n",
       "1                     2023 Q2  \n",
       "2                     2023 Q3  "
      ]
     },
     "execution_count": 217,
     "metadata": {},
     "output_type": "execute_result"
    }
   ],
   "source": [
    "df.head(3)"
   ]
  },
  {
   "cell_type": "markdown",
   "id": "1c708012-13a9-43cb-8844-4f0178b9d26c",
   "metadata": {},
   "source": [
    "#\n",
    "---\n",
    "#"
   ]
  },
  {
   "cell_type": "code",
   "execution_count": 218,
   "id": "7159b987-a370-4016-81b7-6fe00381126c",
   "metadata": {
    "execution": {
     "iopub.execute_input": "2024-12-14T09:30:01.035959Z",
     "iopub.status.busy": "2024-12-14T09:30:01.033949Z",
     "iopub.status.idle": "2024-12-14T09:30:01.738251Z",
     "shell.execute_reply": "2024-12-14T09:30:01.738251Z",
     "shell.execute_reply.started": "2024-12-14T09:30:01.035959Z"
    }
   },
   "outputs": [],
   "source": [
    "data = df.copy()"
   ]
  },
  {
   "cell_type": "markdown",
   "id": "c0bc5ea1-a849-4772-83f4-50f8a880d5ab",
   "metadata": {},
   "source": [
    "#\n",
    "---\n",
    "#"
   ]
  },
  {
   "cell_type": "code",
   "execution_count": 219,
   "id": "52bc1c78-b22b-419a-8267-65b6e4410205",
   "metadata": {
    "execution": {
     "iopub.execute_input": "2024-12-14T09:30:01.738251Z",
     "iopub.status.busy": "2024-12-14T09:30:01.738251Z",
     "iopub.status.idle": "2024-12-14T09:30:01.960721Z",
     "shell.execute_reply": "2024-12-14T09:30:01.959661Z",
     "shell.execute_reply.started": "2024-12-14T09:30:01.738251Z"
    }
   },
   "outputs": [],
   "source": [
    "df.drop(columns=\"Policy Start Date\", inplace=True)"
   ]
  },
  {
   "cell_type": "code",
   "execution_count": 220,
   "id": "d240777c-e082-4b20-aa92-c9493c4609f5",
   "metadata": {
    "execution": {
     "iopub.execute_input": "2024-12-14T09:30:01.961673Z",
     "iopub.status.busy": "2024-12-14T09:30:01.961673Z",
     "iopub.status.idle": "2024-12-14T09:30:01.979138Z",
     "shell.execute_reply": "2024-12-14T09:30:01.979138Z",
     "shell.execute_reply.started": "2024-12-14T09:30:01.961673Z"
    }
   },
   "outputs": [
    {
     "data": {
      "text/html": [
       "<div>\n",
       "<style scoped>\n",
       "    .dataframe tbody tr th:only-of-type {\n",
       "        vertical-align: middle;\n",
       "    }\n",
       "\n",
       "    .dataframe tbody tr th {\n",
       "        vertical-align: top;\n",
       "    }\n",
       "\n",
       "    .dataframe thead th {\n",
       "        text-align: right;\n",
       "    }\n",
       "</style>\n",
       "<table border=\"1\" class=\"dataframe\">\n",
       "  <thead>\n",
       "    <tr style=\"text-align: right;\">\n",
       "      <th></th>\n",
       "      <th>Age</th>\n",
       "      <th>Gender</th>\n",
       "      <th>Annual Income</th>\n",
       "      <th>Marital Status</th>\n",
       "      <th>Number of Dependents</th>\n",
       "      <th>Education Level</th>\n",
       "      <th>Occupation</th>\n",
       "      <th>Health Score</th>\n",
       "      <th>Location</th>\n",
       "      <th>Policy Type</th>\n",
       "      <th>Previous Claims</th>\n",
       "      <th>Vehicle Age</th>\n",
       "      <th>Credit Score</th>\n",
       "      <th>Insurance Duration</th>\n",
       "      <th>Customer Feedback</th>\n",
       "      <th>Smoking Status</th>\n",
       "      <th>Exercise Frequency</th>\n",
       "      <th>Property Type</th>\n",
       "      <th>Premium Amount</th>\n",
       "      <th>Policy Start Date - Day</th>\n",
       "      <th>Policy Start Date - Month</th>\n",
       "      <th>Policy Start Date - Year</th>\n",
       "      <th>Policy Start Date - Quarter</th>\n",
       "    </tr>\n",
       "  </thead>\n",
       "  <tbody>\n",
       "    <tr>\n",
       "      <th>0</th>\n",
       "      <td>19.0</td>\n",
       "      <td>Female</td>\n",
       "      <td>10049.0</td>\n",
       "      <td>Married</td>\n",
       "      <td>1.0</td>\n",
       "      <td>Bachelor's</td>\n",
       "      <td>Self-Employed</td>\n",
       "      <td>22.598761</td>\n",
       "      <td>Urban</td>\n",
       "      <td>Premium</td>\n",
       "      <td>2.0</td>\n",
       "      <td>17.0</td>\n",
       "      <td>372.0</td>\n",
       "      <td>5.0</td>\n",
       "      <td>Poor</td>\n",
       "      <td>No</td>\n",
       "      <td>Weekly</td>\n",
       "      <td>House</td>\n",
       "      <td>2869.0</td>\n",
       "      <td>23</td>\n",
       "      <td>12</td>\n",
       "      <td>2023</td>\n",
       "      <td>2023 Q4</td>\n",
       "    </tr>\n",
       "    <tr>\n",
       "      <th>1</th>\n",
       "      <td>39.0</td>\n",
       "      <td>Female</td>\n",
       "      <td>31678.0</td>\n",
       "      <td>Divorced</td>\n",
       "      <td>3.0</td>\n",
       "      <td>Master's</td>\n",
       "      <td>Self-Employed</td>\n",
       "      <td>15.569731</td>\n",
       "      <td>Rural</td>\n",
       "      <td>Comprehensive</td>\n",
       "      <td>1.0</td>\n",
       "      <td>12.0</td>\n",
       "      <td>694.0</td>\n",
       "      <td>2.0</td>\n",
       "      <td>Average</td>\n",
       "      <td>Yes</td>\n",
       "      <td>Monthly</td>\n",
       "      <td>House</td>\n",
       "      <td>1483.0</td>\n",
       "      <td>12</td>\n",
       "      <td>6</td>\n",
       "      <td>2023</td>\n",
       "      <td>2023 Q2</td>\n",
       "    </tr>\n",
       "    <tr>\n",
       "      <th>2</th>\n",
       "      <td>23.0</td>\n",
       "      <td>Male</td>\n",
       "      <td>25602.0</td>\n",
       "      <td>Divorced</td>\n",
       "      <td>3.0</td>\n",
       "      <td>High School</td>\n",
       "      <td>Self-Employed</td>\n",
       "      <td>47.177549</td>\n",
       "      <td>Suburban</td>\n",
       "      <td>Premium</td>\n",
       "      <td>1.0</td>\n",
       "      <td>14.0</td>\n",
       "      <td>555.0</td>\n",
       "      <td>3.0</td>\n",
       "      <td>Good</td>\n",
       "      <td>Yes</td>\n",
       "      <td>Weekly</td>\n",
       "      <td>House</td>\n",
       "      <td>567.0</td>\n",
       "      <td>30</td>\n",
       "      <td>9</td>\n",
       "      <td>2023</td>\n",
       "      <td>2023 Q3</td>\n",
       "    </tr>\n",
       "  </tbody>\n",
       "</table>\n",
       "</div>"
      ],
      "text/plain": [
       "    Age  Gender  Annual Income Marital Status  Number of Dependents  \\\n",
       "0  19.0  Female        10049.0        Married                   1.0   \n",
       "1  39.0  Female        31678.0       Divorced                   3.0   \n",
       "2  23.0    Male        25602.0       Divorced                   3.0   \n",
       "\n",
       "  Education Level     Occupation  Health Score  Location    Policy Type  \\\n",
       "0      Bachelor's  Self-Employed     22.598761     Urban        Premium   \n",
       "1        Master's  Self-Employed     15.569731     Rural  Comprehensive   \n",
       "2     High School  Self-Employed     47.177549  Suburban        Premium   \n",
       "\n",
       "   Previous Claims  Vehicle Age  Credit Score  Insurance Duration  \\\n",
       "0              2.0         17.0         372.0                 5.0   \n",
       "1              1.0         12.0         694.0                 2.0   \n",
       "2              1.0         14.0         555.0                 3.0   \n",
       "\n",
       "  Customer Feedback Smoking Status Exercise Frequency Property Type  \\\n",
       "0              Poor             No             Weekly         House   \n",
       "1           Average            Yes            Monthly         House   \n",
       "2              Good            Yes             Weekly         House   \n",
       "\n",
       "   Premium Amount  Policy Start Date - Day  Policy Start Date - Month  \\\n",
       "0          2869.0                       23                         12   \n",
       "1          1483.0                       12                          6   \n",
       "2           567.0                       30                          9   \n",
       "\n",
       "   Policy Start Date - Year Policy Start Date - Quarter  \n",
       "0                      2023                     2023 Q4  \n",
       "1                      2023                     2023 Q2  \n",
       "2                      2023                     2023 Q3  "
      ]
     },
     "execution_count": 220,
     "metadata": {},
     "output_type": "execute_result"
    }
   ],
   "source": [
    "df.head(3)"
   ]
  },
  {
   "cell_type": "code",
   "execution_count": 221,
   "id": "88ee6bef-ff51-4c5d-9e05-5e56c347bcc9",
   "metadata": {
    "execution": {
     "iopub.execute_input": "2024-12-14T09:30:01.985486Z",
     "iopub.status.busy": "2024-12-14T09:30:01.984148Z",
     "iopub.status.idle": "2024-12-14T09:30:02.126760Z",
     "shell.execute_reply": "2024-12-14T09:30:02.126760Z",
     "shell.execute_reply.started": "2024-12-14T09:30:01.985486Z"
    }
   },
   "outputs": [],
   "source": [
    "df[[\"Policy Start Date - Day\", \"Policy Start Date - Month\", \"Policy Start Date - Year\"]] = df[[\"Policy Start Date - Day\", \"Policy Start Date - Month\", \"Policy Start Date - Year\"]].astype(\"O\")"
   ]
  },
  {
   "cell_type": "code",
   "execution_count": 222,
   "id": "e8be68f6-5d65-471f-b565-341b94b57ab3",
   "metadata": {
    "execution": {
     "iopub.execute_input": "2024-12-14T09:30:02.130383Z",
     "iopub.status.busy": "2024-12-14T09:30:02.130383Z",
     "iopub.status.idle": "2024-12-14T09:30:02.135985Z",
     "shell.execute_reply": "2024-12-14T09:30:02.135985Z",
     "shell.execute_reply.started": "2024-12-14T09:30:02.130383Z"
    }
   },
   "outputs": [],
   "source": [
    "def show_nulls(df):\n",
    "    nulls = []\n",
    "    nuniques = []\n",
    "    uniques = []\n",
    "    types = []\n",
    "    \n",
    "    for i in df.columns:\n",
    "        nulls.append(df[i].isnull().sum())\n",
    "        nuniques.append(df[i].nunique())\n",
    "        uniques.append(df[i].unique())\n",
    "        types.append(df[i].dtype)\n",
    "    \n",
    "    \n",
    "    return pd.DataFrame(\n",
    "        {\n",
    "            \"Column\" : df.columns,\n",
    "            \"Data Type\" : types,\n",
    "            \"Nulls\" : nulls,\n",
    "            \"No. of Uniques\" : nuniques,\n",
    "            \"Uniques\" : uniques\n",
    "        }\n",
    "    ).sort_values(by=\"Nulls\", ascending=False)"
   ]
  },
  {
   "cell_type": "code",
   "execution_count": 223,
   "id": "34d0b731-be5c-4849-97e8-8ed4bb98f9a4",
   "metadata": {
    "execution": {
     "iopub.execute_input": "2024-12-14T09:30:02.138799Z",
     "iopub.status.busy": "2024-12-14T09:30:02.137790Z",
     "iopub.status.idle": "2024-12-14T09:30:06.518024Z",
     "shell.execute_reply": "2024-12-14T09:30:06.518024Z",
     "shell.execute_reply.started": "2024-12-14T09:30:02.138799Z"
    }
   },
   "outputs": [
    {
     "data": {
      "text/html": [
       "<div>\n",
       "<style scoped>\n",
       "    .dataframe tbody tr th:only-of-type {\n",
       "        vertical-align: middle;\n",
       "    }\n",
       "\n",
       "    .dataframe tbody tr th {\n",
       "        vertical-align: top;\n",
       "    }\n",
       "\n",
       "    .dataframe thead th {\n",
       "        text-align: right;\n",
       "    }\n",
       "</style>\n",
       "<table border=\"1\" class=\"dataframe\">\n",
       "  <thead>\n",
       "    <tr style=\"text-align: right;\">\n",
       "      <th></th>\n",
       "      <th>Column</th>\n",
       "      <th>Data Type</th>\n",
       "      <th>Nulls</th>\n",
       "      <th>No. of Uniques</th>\n",
       "      <th>Uniques</th>\n",
       "    </tr>\n",
       "  </thead>\n",
       "  <tbody>\n",
       "    <tr>\n",
       "      <th>18</th>\n",
       "      <td>Premium Amount</td>\n",
       "      <td>float64</td>\n",
       "      <td>800000</td>\n",
       "      <td>4794</td>\n",
       "      <td>[2869.0, 1483.0, 567.0, 765.0, 2022.0, 3202.0,...</td>\n",
       "    </tr>\n",
       "    <tr>\n",
       "      <th>1</th>\n",
       "      <td>Gender</td>\n",
       "      <td>object</td>\n",
       "      <td>0</td>\n",
       "      <td>2</td>\n",
       "      <td>[Female, Male]</td>\n",
       "    </tr>\n",
       "    <tr>\n",
       "      <th>0</th>\n",
       "      <td>Age</td>\n",
       "      <td>float64</td>\n",
       "      <td>0</td>\n",
       "      <td>47</td>\n",
       "      <td>[19.0, 39.0, 23.0, 21.0, 29.0, 41.0, 48.0, 44....</td>\n",
       "    </tr>\n",
       "    <tr>\n",
       "      <th>3</th>\n",
       "      <td>Marital Status</td>\n",
       "      <td>object</td>\n",
       "      <td>0</td>\n",
       "      <td>3</td>\n",
       "      <td>[Married, Divorced, Single]</td>\n",
       "    </tr>\n",
       "    <tr>\n",
       "      <th>4</th>\n",
       "      <td>Number of Dependents</td>\n",
       "      <td>float64</td>\n",
       "      <td>0</td>\n",
       "      <td>5</td>\n",
       "      <td>[1.0, 3.0, 2.0, 0.0, 4.0]</td>\n",
       "    </tr>\n",
       "    <tr>\n",
       "      <th>5</th>\n",
       "      <td>Education Level</td>\n",
       "      <td>object</td>\n",
       "      <td>0</td>\n",
       "      <td>4</td>\n",
       "      <td>[Bachelor's, Master's, High School, PhD]</td>\n",
       "    </tr>\n",
       "    <tr>\n",
       "      <th>2</th>\n",
       "      <td>Annual Income</td>\n",
       "      <td>float64</td>\n",
       "      <td>0</td>\n",
       "      <td>97952</td>\n",
       "      <td>[10049.0, 31678.0, 25602.0, 141855.0, 39651.0,...</td>\n",
       "    </tr>\n",
       "    <tr>\n",
       "      <th>6</th>\n",
       "      <td>Occupation</td>\n",
       "      <td>object</td>\n",
       "      <td>0</td>\n",
       "      <td>3</td>\n",
       "      <td>[Self-Employed, Employed, Unemployed]</td>\n",
       "    </tr>\n",
       "    <tr>\n",
       "      <th>7</th>\n",
       "      <td>Health Score</td>\n",
       "      <td>float64</td>\n",
       "      <td>0</td>\n",
       "      <td>934000</td>\n",
       "      <td>[22.59876067181393, 15.569730989408043, 47.177...</td>\n",
       "    </tr>\n",
       "    <tr>\n",
       "      <th>9</th>\n",
       "      <td>Policy Type</td>\n",
       "      <td>object</td>\n",
       "      <td>0</td>\n",
       "      <td>3</td>\n",
       "      <td>[Premium, Comprehensive, Basic]</td>\n",
       "    </tr>\n",
       "    <tr>\n",
       "      <th>8</th>\n",
       "      <td>Location</td>\n",
       "      <td>object</td>\n",
       "      <td>0</td>\n",
       "      <td>3</td>\n",
       "      <td>[Urban, Rural, Suburban]</td>\n",
       "    </tr>\n",
       "    <tr>\n",
       "      <th>11</th>\n",
       "      <td>Vehicle Age</td>\n",
       "      <td>float64</td>\n",
       "      <td>0</td>\n",
       "      <td>20</td>\n",
       "      <td>[17.0, 12.0, 14.0, 0.0, 8.0, 4.0, 11.0, 10.0, ...</td>\n",
       "    </tr>\n",
       "    <tr>\n",
       "      <th>12</th>\n",
       "      <td>Credit Score</td>\n",
       "      <td>float64</td>\n",
       "      <td>0</td>\n",
       "      <td>550</td>\n",
       "      <td>[372.0, 694.0, 555.0, 367.0, 598.0, 614.0, 807...</td>\n",
       "    </tr>\n",
       "    <tr>\n",
       "      <th>13</th>\n",
       "      <td>Insurance Duration</td>\n",
       "      <td>float64</td>\n",
       "      <td>0</td>\n",
       "      <td>9</td>\n",
       "      <td>[5.0, 2.0, 3.0, 1.0, 4.0, 6.0, 8.0, 9.0, 7.0]</td>\n",
       "    </tr>\n",
       "    <tr>\n",
       "      <th>10</th>\n",
       "      <td>Previous Claims</td>\n",
       "      <td>float64</td>\n",
       "      <td>0</td>\n",
       "      <td>10</td>\n",
       "      <td>[2.0, 1.0, 0.0, 3.0, 4.0, 5.0, 6.0, 7.0, 8.0, ...</td>\n",
       "    </tr>\n",
       "    <tr>\n",
       "      <th>14</th>\n",
       "      <td>Customer Feedback</td>\n",
       "      <td>object</td>\n",
       "      <td>0</td>\n",
       "      <td>3</td>\n",
       "      <td>[Poor, Average, Good]</td>\n",
       "    </tr>\n",
       "    <tr>\n",
       "      <th>15</th>\n",
       "      <td>Smoking Status</td>\n",
       "      <td>object</td>\n",
       "      <td>0</td>\n",
       "      <td>2</td>\n",
       "      <td>[No, Yes]</td>\n",
       "    </tr>\n",
       "    <tr>\n",
       "      <th>16</th>\n",
       "      <td>Exercise Frequency</td>\n",
       "      <td>object</td>\n",
       "      <td>0</td>\n",
       "      <td>4</td>\n",
       "      <td>[Weekly, Monthly, Daily, Rarely]</td>\n",
       "    </tr>\n",
       "    <tr>\n",
       "      <th>17</th>\n",
       "      <td>Property Type</td>\n",
       "      <td>object</td>\n",
       "      <td>0</td>\n",
       "      <td>3</td>\n",
       "      <td>[House, Apartment, Condo]</td>\n",
       "    </tr>\n",
       "    <tr>\n",
       "      <th>19</th>\n",
       "      <td>Policy Start Date - Day</td>\n",
       "      <td>object</td>\n",
       "      <td>0</td>\n",
       "      <td>31</td>\n",
       "      <td>[23, 12, 30, 1, 20, 21, 8, 14, 2, 22, 28, 17, ...</td>\n",
       "    </tr>\n",
       "    <tr>\n",
       "      <th>20</th>\n",
       "      <td>Policy Start Date - Month</td>\n",
       "      <td>object</td>\n",
       "      <td>0</td>\n",
       "      <td>12</td>\n",
       "      <td>[12, 6, 9, 5, 2, 8, 3, 10, 1, 4, 7, 11]</td>\n",
       "    </tr>\n",
       "    <tr>\n",
       "      <th>21</th>\n",
       "      <td>Policy Start Date - Year</td>\n",
       "      <td>object</td>\n",
       "      <td>0</td>\n",
       "      <td>6</td>\n",
       "      <td>[2023, 2024, 2021, 2022, 2020, 2019]</td>\n",
       "    </tr>\n",
       "    <tr>\n",
       "      <th>22</th>\n",
       "      <td>Policy Start Date - Quarter</td>\n",
       "      <td>object</td>\n",
       "      <td>0</td>\n",
       "      <td>21</td>\n",
       "      <td>[2023 Q4, 2023 Q2, 2023 Q3, 2024 Q2, 2021 Q4, ...</td>\n",
       "    </tr>\n",
       "  </tbody>\n",
       "</table>\n",
       "</div>"
      ],
      "text/plain": [
       "                         Column Data Type   Nulls  No. of Uniques  \\\n",
       "18               Premium Amount   float64  800000            4794   \n",
       "1                        Gender    object       0               2   \n",
       "0                           Age   float64       0              47   \n",
       "3                Marital Status    object       0               3   \n",
       "4          Number of Dependents   float64       0               5   \n",
       "5               Education Level    object       0               4   \n",
       "2                 Annual Income   float64       0           97952   \n",
       "6                    Occupation    object       0               3   \n",
       "7                  Health Score   float64       0          934000   \n",
       "9                   Policy Type    object       0               3   \n",
       "8                      Location    object       0               3   \n",
       "11                  Vehicle Age   float64       0              20   \n",
       "12                 Credit Score   float64       0             550   \n",
       "13           Insurance Duration   float64       0               9   \n",
       "10              Previous Claims   float64       0              10   \n",
       "14            Customer Feedback    object       0               3   \n",
       "15               Smoking Status    object       0               2   \n",
       "16           Exercise Frequency    object       0               4   \n",
       "17                Property Type    object       0               3   \n",
       "19      Policy Start Date - Day    object       0              31   \n",
       "20    Policy Start Date - Month    object       0              12   \n",
       "21     Policy Start Date - Year    object       0               6   \n",
       "22  Policy Start Date - Quarter    object       0              21   \n",
       "\n",
       "                                              Uniques  \n",
       "18  [2869.0, 1483.0, 567.0, 765.0, 2022.0, 3202.0,...  \n",
       "1                                      [Female, Male]  \n",
       "0   [19.0, 39.0, 23.0, 21.0, 29.0, 41.0, 48.0, 44....  \n",
       "3                         [Married, Divorced, Single]  \n",
       "4                           [1.0, 3.0, 2.0, 0.0, 4.0]  \n",
       "5            [Bachelor's, Master's, High School, PhD]  \n",
       "2   [10049.0, 31678.0, 25602.0, 141855.0, 39651.0,...  \n",
       "6               [Self-Employed, Employed, Unemployed]  \n",
       "7   [22.59876067181393, 15.569730989408043, 47.177...  \n",
       "9                     [Premium, Comprehensive, Basic]  \n",
       "8                            [Urban, Rural, Suburban]  \n",
       "11  [17.0, 12.0, 14.0, 0.0, 8.0, 4.0, 11.0, 10.0, ...  \n",
       "12  [372.0, 694.0, 555.0, 367.0, 598.0, 614.0, 807...  \n",
       "13      [5.0, 2.0, 3.0, 1.0, 4.0, 6.0, 8.0, 9.0, 7.0]  \n",
       "10  [2.0, 1.0, 0.0, 3.0, 4.0, 5.0, 6.0, 7.0, 8.0, ...  \n",
       "14                              [Poor, Average, Good]  \n",
       "15                                          [No, Yes]  \n",
       "16                   [Weekly, Monthly, Daily, Rarely]  \n",
       "17                          [House, Apartment, Condo]  \n",
       "19  [23, 12, 30, 1, 20, 21, 8, 14, 2, 22, 28, 17, ...  \n",
       "20            [12, 6, 9, 5, 2, 8, 3, 10, 1, 4, 7, 11]  \n",
       "21               [2023, 2024, 2021, 2022, 2020, 2019]  \n",
       "22  [2023 Q4, 2023 Q2, 2023 Q3, 2024 Q2, 2021 Q4, ...  "
      ]
     },
     "execution_count": 223,
     "metadata": {},
     "output_type": "execute_result"
    }
   ],
   "source": [
    "show_nulls(df)"
   ]
  },
  {
   "cell_type": "markdown",
   "id": "ff7ddd4e-4049-416e-95b3-11400784d394",
   "metadata": {},
   "source": [
    "#\n",
    "---\n",
    "#"
   ]
  },
  {
   "cell_type": "code",
   "execution_count": 224,
   "id": "fcb10087-883f-4e3e-ac2a-403f578ee758",
   "metadata": {
    "execution": {
     "iopub.execute_input": "2024-12-14T09:30:06.519682Z",
     "iopub.status.busy": "2024-12-14T09:30:06.519682Z",
     "iopub.status.idle": "2024-12-14T09:30:06.533112Z",
     "shell.execute_reply": "2024-12-14T09:30:06.533112Z",
     "shell.execute_reply.started": "2024-12-14T09:30:06.519682Z"
    },
    "jupyter": {
     "source_hidden": true
    }
   },
   "outputs": [],
   "source": [
    "def return_splits(ddf, feature_name, target_name):\n",
    "    return [ddf[ddf[feature_name] == i][target_name] for i in ddf[feature_name].unique()]\n",
    "\n",
    "def give_stats_analysis(df, target_column_name):\n",
    "    ddf = df.copy()\n",
    "    ddf = ddf.dropna()\n",
    "\n",
    "    features = []\n",
    "    tests = []\n",
    "    stats = []\n",
    "    pvals = []\n",
    "    verdict = []\n",
    "    count = 0\n",
    "\n",
    "    target = ddf[target_column_name]\n",
    "    for i in ddf.columns:\n",
    "        features.append(i)\n",
    "        feature = ddf[i]\n",
    "        \n",
    "        if (feature.dtype == \"O\" and (target.dtype == \"float\" or target.dtype == \"int\")) or (target.dtype == \"O\" and (feature.dtype == \"float\" or feature.dtype == \"int\")):\n",
    "            stat, pval, *_ = kruskal(*return_splits(ddf, feature.name, target.name))\n",
    "            tests.append(\"Kruskal-Wallis\")\n",
    "            stats.append(stat)\n",
    "            pvals.append(pval)\n",
    "            \n",
    "        \n",
    "        elif (feature.dtype == \"float\" or feature.dtype == \"int\") and (target.dtype == \"float\" or target.dtype == \"int\"):\n",
    "            stat, pval, *_ = spearmanr(feature, target)\n",
    "            tests.append(\"SpearmanR\")\n",
    "            stats.append(stat)\n",
    "            pvals.append(pval)\n",
    "\n",
    "        elif feature.dtype == \"O\" and target.dtype == \"O\":\n",
    "            stat, pval, *_ = chi2_contingency(pd.crosstab(feature, target))\n",
    "            tests.append(\"Chi-Square\")\n",
    "            stats.append(stat)\n",
    "            pvals.append(pval)\n",
    "        \n",
    "        else:\n",
    "            tests.append(np.nan)\n",
    "            stats.append(np.nan)\n",
    "            pvals.append(np.nan)\n",
    "        \n",
    "        if pval <= 0.025:\n",
    "            verdict.append(\"There is Relationship\")\n",
    "        else:\n",
    "            verdict.append(\"There is NO Relationship\")\n",
    "\n",
    "        print(f\"{feature.name} ■■■ {target_column_name}\".ljust(50, \"-\")+\"✅\")\n",
    "    \n",
    "    return pd.DataFrame({\n",
    "        \"Feature\" : features,\n",
    "        \"Target\" : [target_column_name]*ddf.shape[1],\n",
    "        \"Statistic Test\" : tests,\n",
    "        \"Test Statistic\" : stats,\n",
    "        \"P-Value\" : pvals,\n",
    "        \"Verdict\" : verdict\n",
    "    }).sort_values(by=\"P-Value\")"
   ]
  },
  {
   "cell_type": "markdown",
   "id": "2501f96a-7984-4f37-af65-c91620ce9eab",
   "metadata": {},
   "source": [
    "# H0 :- There is ***No Relationship*** among the given two columns\n",
    "# H1 :- There is ***Relationship*** among the given two columns"
   ]
  },
  {
   "cell_type": "markdown",
   "id": "ad55e28f-15c2-4178-9781-701ebcda958c",
   "metadata": {},
   "source": [
    "### ***Health-related indicators***\n",
    "- [x] Health Score\n",
    "- [x] Smoking Status\n",
    "- [x] Exercise Frequency\n",
    "### ***Demographic information***\n",
    "- [x] Age\n",
    "- [x] Gender\n",
    "- [x] Marital Status\n",
    "- [x] Number of Dependents\n",
    "- [x] Occupation\n",
    "### ***Policy details***\n",
    "- [x] Policy Type\n",
    "- [x] Policy Start Date\n",
    "- [x] Insurance Duration\n",
    "### ***Financial factors***\n",
    "- [x] Annual Income\n",
    "- [x] Credit Score.\n",
    "### ***Premium calculation***\n",
    "- [x] Premium Amount"
   ]
  },
  {
   "cell_type": "code",
   "execution_count": 225,
   "id": "866e7069-7e15-4239-97f9-ddfe46ab0ebe",
   "metadata": {
    "execution": {
     "iopub.execute_input": "2024-12-14T09:30:06.535579Z",
     "iopub.status.busy": "2024-12-14T09:30:06.534567Z",
     "iopub.status.idle": "2024-12-14T09:30:23.982234Z",
     "shell.execute_reply": "2024-12-14T09:30:23.982234Z",
     "shell.execute_reply.started": "2024-12-14T09:30:06.535579Z"
    }
   },
   "outputs": [
    {
     "name": "stdout",
     "output_type": "stream",
     "text": [
      "Age ■■■ Premium Amount----------------------------✅\n",
      "Gender ■■■ Premium Amount-------------------------✅\n",
      "Annual Income ■■■ Premium Amount------------------✅\n",
      "Marital Status ■■■ Premium Amount-----------------✅\n",
      "Number of Dependents ■■■ Premium Amount-----------✅\n",
      "Education Level ■■■ Premium Amount----------------✅\n",
      "Occupation ■■■ Premium Amount---------------------✅\n",
      "Health Score ■■■ Premium Amount-------------------✅\n",
      "Location ■■■ Premium Amount-----------------------✅\n",
      "Policy Type ■■■ Premium Amount--------------------✅\n",
      "Previous Claims ■■■ Premium Amount----------------✅\n",
      "Vehicle Age ■■■ Premium Amount--------------------✅\n",
      "Credit Score ■■■ Premium Amount-------------------✅\n",
      "Insurance Duration ■■■ Premium Amount-------------✅\n",
      "Customer Feedback ■■■ Premium Amount--------------✅\n",
      "Smoking Status ■■■ Premium Amount-----------------✅\n",
      "Exercise Frequency ■■■ Premium Amount-------------✅\n",
      "Property Type ■■■ Premium Amount------------------✅\n",
      "Premium Amount ■■■ Premium Amount-----------------✅\n",
      "Policy Start Date - Day ■■■ Premium Amount--------✅\n",
      "Policy Start Date - Month ■■■ Premium Amount------✅\n",
      "Policy Start Date - Year ■■■ Premium Amount-------✅\n",
      "Policy Start Date - Quarter ■■■ Premium Amount----✅\n"
     ]
    },
    {
     "data": {
      "text/html": [
       "<div>\n",
       "<style scoped>\n",
       "    .dataframe tbody tr th:only-of-type {\n",
       "        vertical-align: middle;\n",
       "    }\n",
       "\n",
       "    .dataframe tbody tr th {\n",
       "        vertical-align: top;\n",
       "    }\n",
       "\n",
       "    .dataframe thead th {\n",
       "        text-align: right;\n",
       "    }\n",
       "</style>\n",
       "<table border=\"1\" class=\"dataframe\">\n",
       "  <thead>\n",
       "    <tr style=\"text-align: right;\">\n",
       "      <th></th>\n",
       "      <th>Feature</th>\n",
       "      <th>Target</th>\n",
       "      <th>Statistic Test</th>\n",
       "      <th>Test Statistic</th>\n",
       "      <th>P-Value</th>\n",
       "      <th>Verdict</th>\n",
       "    </tr>\n",
       "  </thead>\n",
       "  <tbody>\n",
       "    <tr>\n",
       "      <th>2</th>\n",
       "      <td>Annual Income</td>\n",
       "      <td>Premium Amount</td>\n",
       "      <td>SpearmanR</td>\n",
       "      <td>-0.060743</td>\n",
       "      <td>0.000000e+00</td>\n",
       "      <td>There is Relationship</td>\n",
       "    </tr>\n",
       "    <tr>\n",
       "      <th>12</th>\n",
       "      <td>Credit Score</td>\n",
       "      <td>Premium Amount</td>\n",
       "      <td>SpearmanR</td>\n",
       "      <td>-0.037140</td>\n",
       "      <td>0.000000e+00</td>\n",
       "      <td>There is Relationship</td>\n",
       "    </tr>\n",
       "    <tr>\n",
       "      <th>18</th>\n",
       "      <td>Premium Amount</td>\n",
       "      <td>Premium Amount</td>\n",
       "      <td>SpearmanR</td>\n",
       "      <td>1.000000</td>\n",
       "      <td>0.000000e+00</td>\n",
       "      <td>There is Relationship</td>\n",
       "    </tr>\n",
       "    <tr>\n",
       "      <th>10</th>\n",
       "      <td>Previous Claims</td>\n",
       "      <td>Premium Amount</td>\n",
       "      <td>SpearmanR</td>\n",
       "      <td>0.031065</td>\n",
       "      <td>6.140967e-254</td>\n",
       "      <td>There is Relationship</td>\n",
       "    </tr>\n",
       "    <tr>\n",
       "      <th>21</th>\n",
       "      <td>Policy Start Date - Year</td>\n",
       "      <td>Premium Amount</td>\n",
       "      <td>Kruskal-Wallis</td>\n",
       "      <td>744.007760</td>\n",
       "      <td>1.495212e-158</td>\n",
       "      <td>There is Relationship</td>\n",
       "    </tr>\n",
       "    <tr>\n",
       "      <th>22</th>\n",
       "      <td>Policy Start Date - Quarter</td>\n",
       "      <td>Premium Amount</td>\n",
       "      <td>Kruskal-Wallis</td>\n",
       "      <td>762.405096</td>\n",
       "      <td>1.339135e-148</td>\n",
       "      <td>There is Relationship</td>\n",
       "    </tr>\n",
       "    <tr>\n",
       "      <th>7</th>\n",
       "      <td>Health Score</td>\n",
       "      <td>Premium Amount</td>\n",
       "      <td>SpearmanR</td>\n",
       "      <td>0.016407</td>\n",
       "      <td>3.113085e-72</td>\n",
       "      <td>There is Relationship</td>\n",
       "    </tr>\n",
       "    <tr>\n",
       "      <th>20</th>\n",
       "      <td>Policy Start Date - Month</td>\n",
       "      <td>Premium Amount</td>\n",
       "      <td>Kruskal-Wallis</td>\n",
       "      <td>70.518156</td>\n",
       "      <td>9.736743e-11</td>\n",
       "      <td>There is Relationship</td>\n",
       "    </tr>\n",
       "    <tr>\n",
       "      <th>14</th>\n",
       "      <td>Customer Feedback</td>\n",
       "      <td>Premium Amount</td>\n",
       "      <td>Kruskal-Wallis</td>\n",
       "      <td>31.155459</td>\n",
       "      <td>1.716635e-07</td>\n",
       "      <td>There is Relationship</td>\n",
       "    </tr>\n",
       "    <tr>\n",
       "      <th>6</th>\n",
       "      <td>Occupation</td>\n",
       "      <td>Premium Amount</td>\n",
       "      <td>Kruskal-Wallis</td>\n",
       "      <td>14.927461</td>\n",
       "      <td>5.735127e-04</td>\n",
       "      <td>There is Relationship</td>\n",
       "    </tr>\n",
       "    <tr>\n",
       "      <th>0</th>\n",
       "      <td>Age</td>\n",
       "      <td>Premium Amount</td>\n",
       "      <td>SpearmanR</td>\n",
       "      <td>-0.002478</td>\n",
       "      <td>6.648030e-03</td>\n",
       "      <td>There is Relationship</td>\n",
       "    </tr>\n",
       "    <tr>\n",
       "      <th>4</th>\n",
       "      <td>Number of Dependents</td>\n",
       "      <td>Premium Amount</td>\n",
       "      <td>SpearmanR</td>\n",
       "      <td>-0.002147</td>\n",
       "      <td>1.869285e-02</td>\n",
       "      <td>There is Relationship</td>\n",
       "    </tr>\n",
       "    <tr>\n",
       "      <th>3</th>\n",
       "      <td>Marital Status</td>\n",
       "      <td>Premium Amount</td>\n",
       "      <td>Kruskal-Wallis</td>\n",
       "      <td>7.770854</td>\n",
       "      <td>2.053905e-02</td>\n",
       "      <td>There is Relationship</td>\n",
       "    </tr>\n",
       "    <tr>\n",
       "      <th>8</th>\n",
       "      <td>Location</td>\n",
       "      <td>Premium Amount</td>\n",
       "      <td>Kruskal-Wallis</td>\n",
       "      <td>3.429708</td>\n",
       "      <td>1.799900e-01</td>\n",
       "      <td>There is NO Relationship</td>\n",
       "    </tr>\n",
       "    <tr>\n",
       "      <th>5</th>\n",
       "      <td>Education Level</td>\n",
       "      <td>Premium Amount</td>\n",
       "      <td>Kruskal-Wallis</td>\n",
       "      <td>3.804265</td>\n",
       "      <td>2.833904e-01</td>\n",
       "      <td>There is NO Relationship</td>\n",
       "    </tr>\n",
       "    <tr>\n",
       "      <th>11</th>\n",
       "      <td>Vehicle Age</td>\n",
       "      <td>Premium Amount</td>\n",
       "      <td>SpearmanR</td>\n",
       "      <td>0.000870</td>\n",
       "      <td>3.406769e-01</td>\n",
       "      <td>There is NO Relationship</td>\n",
       "    </tr>\n",
       "    <tr>\n",
       "      <th>9</th>\n",
       "      <td>Policy Type</td>\n",
       "      <td>Premium Amount</td>\n",
       "      <td>Kruskal-Wallis</td>\n",
       "      <td>1.907457</td>\n",
       "      <td>3.853018e-01</td>\n",
       "      <td>There is NO Relationship</td>\n",
       "    </tr>\n",
       "    <tr>\n",
       "      <th>17</th>\n",
       "      <td>Property Type</td>\n",
       "      <td>Premium Amount</td>\n",
       "      <td>Kruskal-Wallis</td>\n",
       "      <td>1.738442</td>\n",
       "      <td>4.192780e-01</td>\n",
       "      <td>There is NO Relationship</td>\n",
       "    </tr>\n",
       "    <tr>\n",
       "      <th>16</th>\n",
       "      <td>Exercise Frequency</td>\n",
       "      <td>Premium Amount</td>\n",
       "      <td>Kruskal-Wallis</td>\n",
       "      <td>2.756426</td>\n",
       "      <td>4.307233e-01</td>\n",
       "      <td>There is NO Relationship</td>\n",
       "    </tr>\n",
       "    <tr>\n",
       "      <th>15</th>\n",
       "      <td>Smoking Status</td>\n",
       "      <td>Premium Amount</td>\n",
       "      <td>Kruskal-Wallis</td>\n",
       "      <td>0.169736</td>\n",
       "      <td>6.803462e-01</td>\n",
       "      <td>There is NO Relationship</td>\n",
       "    </tr>\n",
       "    <tr>\n",
       "      <th>19</th>\n",
       "      <td>Policy Start Date - Day</td>\n",
       "      <td>Premium Amount</td>\n",
       "      <td>Kruskal-Wallis</td>\n",
       "      <td>22.607314</td>\n",
       "      <td>8.310527e-01</td>\n",
       "      <td>There is NO Relationship</td>\n",
       "    </tr>\n",
       "    <tr>\n",
       "      <th>1</th>\n",
       "      <td>Gender</td>\n",
       "      <td>Premium Amount</td>\n",
       "      <td>Kruskal-Wallis</td>\n",
       "      <td>0.017928</td>\n",
       "      <td>8.934858e-01</td>\n",
       "      <td>There is NO Relationship</td>\n",
       "    </tr>\n",
       "    <tr>\n",
       "      <th>13</th>\n",
       "      <td>Insurance Duration</td>\n",
       "      <td>Premium Amount</td>\n",
       "      <td>SpearmanR</td>\n",
       "      <td>-0.000071</td>\n",
       "      <td>9.379639e-01</td>\n",
       "      <td>There is NO Relationship</td>\n",
       "    </tr>\n",
       "  </tbody>\n",
       "</table>\n",
       "</div>"
      ],
      "text/plain": [
       "                        Feature          Target  Statistic Test  \\\n",
       "2                 Annual Income  Premium Amount       SpearmanR   \n",
       "12                 Credit Score  Premium Amount       SpearmanR   \n",
       "18               Premium Amount  Premium Amount       SpearmanR   \n",
       "10              Previous Claims  Premium Amount       SpearmanR   \n",
       "21     Policy Start Date - Year  Premium Amount  Kruskal-Wallis   \n",
       "22  Policy Start Date - Quarter  Premium Amount  Kruskal-Wallis   \n",
       "7                  Health Score  Premium Amount       SpearmanR   \n",
       "20    Policy Start Date - Month  Premium Amount  Kruskal-Wallis   \n",
       "14            Customer Feedback  Premium Amount  Kruskal-Wallis   \n",
       "6                    Occupation  Premium Amount  Kruskal-Wallis   \n",
       "0                           Age  Premium Amount       SpearmanR   \n",
       "4          Number of Dependents  Premium Amount       SpearmanR   \n",
       "3                Marital Status  Premium Amount  Kruskal-Wallis   \n",
       "8                      Location  Premium Amount  Kruskal-Wallis   \n",
       "5               Education Level  Premium Amount  Kruskal-Wallis   \n",
       "11                  Vehicle Age  Premium Amount       SpearmanR   \n",
       "9                   Policy Type  Premium Amount  Kruskal-Wallis   \n",
       "17                Property Type  Premium Amount  Kruskal-Wallis   \n",
       "16           Exercise Frequency  Premium Amount  Kruskal-Wallis   \n",
       "15               Smoking Status  Premium Amount  Kruskal-Wallis   \n",
       "19      Policy Start Date - Day  Premium Amount  Kruskal-Wallis   \n",
       "1                        Gender  Premium Amount  Kruskal-Wallis   \n",
       "13           Insurance Duration  Premium Amount       SpearmanR   \n",
       "\n",
       "    Test Statistic        P-Value                   Verdict  \n",
       "2        -0.060743   0.000000e+00     There is Relationship  \n",
       "12       -0.037140   0.000000e+00     There is Relationship  \n",
       "18        1.000000   0.000000e+00     There is Relationship  \n",
       "10        0.031065  6.140967e-254     There is Relationship  \n",
       "21      744.007760  1.495212e-158     There is Relationship  \n",
       "22      762.405096  1.339135e-148     There is Relationship  \n",
       "7         0.016407   3.113085e-72     There is Relationship  \n",
       "20       70.518156   9.736743e-11     There is Relationship  \n",
       "14       31.155459   1.716635e-07     There is Relationship  \n",
       "6        14.927461   5.735127e-04     There is Relationship  \n",
       "0        -0.002478   6.648030e-03     There is Relationship  \n",
       "4        -0.002147   1.869285e-02     There is Relationship  \n",
       "3         7.770854   2.053905e-02     There is Relationship  \n",
       "8         3.429708   1.799900e-01  There is NO Relationship  \n",
       "5         3.804265   2.833904e-01  There is NO Relationship  \n",
       "11        0.000870   3.406769e-01  There is NO Relationship  \n",
       "9         1.907457   3.853018e-01  There is NO Relationship  \n",
       "17        1.738442   4.192780e-01  There is NO Relationship  \n",
       "16        2.756426   4.307233e-01  There is NO Relationship  \n",
       "15        0.169736   6.803462e-01  There is NO Relationship  \n",
       "19       22.607314   8.310527e-01  There is NO Relationship  \n",
       "1         0.017928   8.934858e-01  There is NO Relationship  \n",
       "13       -0.000071   9.379639e-01  There is NO Relationship  "
      ]
     },
     "execution_count": 225,
     "metadata": {},
     "output_type": "execute_result"
    }
   ],
   "source": [
    "stats_result = give_stats_analysis(df.iloc[:1200000, :], \"Premium Amount\")\n",
    "stats_result"
   ]
  },
  {
   "cell_type": "markdown",
   "id": "b22ce88a-cab7-4d3b-a979-0fad2c865e23",
   "metadata": {},
   "source": [
    "# <ins>Key Premium as per Reseach Papers and as per dataset.</ins>\n",
    "### `Strikeoff features are said by research and dataset too. But unstrike ones are not impactful to determine premium amount as per dataset but as per research it should be. We need to find why like so in these features`\n",
    "\n",
    "- ### ~~Age~~\n",
    "- ### Gender\n",
    "- ### ~~Health Score~~\n",
    "- ### Smoking Status\n",
    "- ### Exercise Frequency\n",
    "- ### ~~Occupation~~\n",
    "- ### Policy Type\n",
    "- ### ~~Previous Claims~~\n",
    "- ### ~~Annual Income~~\n",
    "- ### Insurance Duration\n",
    "- ### ~~Credit Score~~"
   ]
  },
  {
   "cell_type": "markdown",
   "id": "059d3e49-9636-48d0-bcb1-69189ddd0294",
   "metadata": {},
   "source": [
    "#\n",
    "---\n",
    "#"
   ]
  },
  {
   "cell_type": "code",
   "execution_count": 226,
   "id": "2f421267-688f-499c-a4f1-b9927f60191b",
   "metadata": {
    "execution": {
     "iopub.execute_input": "2024-12-14T09:30:23.983318Z",
     "iopub.status.busy": "2024-12-14T09:30:23.983318Z",
     "iopub.status.idle": "2024-12-14T09:30:23.987212Z",
     "shell.execute_reply": "2024-12-14T09:30:23.987212Z",
     "shell.execute_reply.started": "2024-12-14T09:30:23.983318Z"
    }
   },
   "outputs": [],
   "source": [
    "cols = [\"Gender\", \"Smoking Status\", \"Exercise Frequency\", \"Policy Type\", \"Insurance Duration\"]"
   ]
  },
  {
   "cell_type": "code",
   "execution_count": 227,
   "id": "fe249049-12c2-40ed-8cb7-92897f29cb69",
   "metadata": {
    "execution": {
     "iopub.execute_input": "2024-12-14T09:30:23.989299Z",
     "iopub.status.busy": "2024-12-14T09:30:23.988224Z",
     "iopub.status.idle": "2024-12-14T09:30:41.086576Z",
     "shell.execute_reply": "2024-12-14T09:30:41.086576Z",
     "shell.execute_reply.started": "2024-12-14T09:30:23.989299Z"
    }
   },
   "outputs": [
    {
     "data": {
      "image/png": "[encoded data removed]",
      "text/plain": [
       "<Figure size 2000x800 with 6 Axes>"
      ]
     },
     "metadata": {},
     "output_type": "display_data"
    }
   ],
   "source": [
    "fig, axs = plt.subplots(2, 3, figsize=(20, 8))\n",
    "for col, ax in zip(cols, axs.flatten()):\n",
    "    sns.boxplot(y=df[\"Premium Amount\"], x=df[col], color=\"mediumblue\", ax=ax)"
   ]
  },
  {
   "cell_type": "code",
   "execution_count": 228,
   "id": "8670cb06-4ffd-4bd2-b281-ad10a3b060ac",
   "metadata": {
    "execution": {
     "iopub.execute_input": "2024-12-14T09:30:41.086576Z",
     "iopub.status.busy": "2024-12-14T09:30:41.086576Z",
     "iopub.status.idle": "2024-12-14T09:30:41.095541Z",
     "shell.execute_reply": "2024-12-14T09:30:41.094860Z",
     "shell.execute_reply.started": "2024-12-14T09:30:41.086576Z"
    }
   },
   "outputs": [
    {
     "data": {
      "text/plain": [
       "8                    Location\n",
       "5             Education Level\n",
       "11                Vehicle Age\n",
       "9                 Policy Type\n",
       "17              Property Type\n",
       "16         Exercise Frequency\n",
       "15             Smoking Status\n",
       "19    Policy Start Date - Day\n",
       "1                      Gender\n",
       "13         Insurance Duration\n",
       "Name: Feature, dtype: object"
      ]
     },
     "execution_count": 228,
     "metadata": {},
     "output_type": "execute_result"
    }
   ],
   "source": [
    "useless_columns = stats_result[stats_result[\"P-Value\"] >= 0.025][\"Feature\"]\n",
    "useless_columns"
   ]
  },
  {
   "cell_type": "code",
   "execution_count": 229,
   "id": "2a672854-7ec2-4ba5-bbe9-20ffa5fafcbc",
   "metadata": {
    "execution": {
     "iopub.execute_input": "2024-12-14T09:30:41.096607Z",
     "iopub.status.busy": "2024-12-14T09:30:41.096607Z",
     "iopub.status.idle": "2024-12-14T09:30:41.239196Z",
     "shell.execute_reply": "2024-12-14T09:30:41.239196Z",
     "shell.execute_reply.started": "2024-12-14T09:30:41.096607Z"
    }
   },
   "outputs": [
    {
     "data": {
      "text/html": [
       "<div>\n",
       "<style scoped>\n",
       "    .dataframe tbody tr th:only-of-type {\n",
       "        vertical-align: middle;\n",
       "    }\n",
       "\n",
       "    .dataframe tbody tr th {\n",
       "        vertical-align: top;\n",
       "    }\n",
       "\n",
       "    .dataframe thead th {\n",
       "        text-align: right;\n",
       "    }\n",
       "</style>\n",
       "<table border=\"1\" class=\"dataframe\">\n",
       "  <thead>\n",
       "    <tr style=\"text-align: right;\">\n",
       "      <th></th>\n",
       "      <th>Location</th>\n",
       "      <th>Education Level</th>\n",
       "      <th>Vehicle Age</th>\n",
       "      <th>Policy Type</th>\n",
       "      <th>Property Type</th>\n",
       "      <th>Exercise Frequency</th>\n",
       "      <th>Smoking Status</th>\n",
       "      <th>Policy Start Date - Day</th>\n",
       "      <th>Gender</th>\n",
       "      <th>Insurance Duration</th>\n",
       "    </tr>\n",
       "  </thead>\n",
       "  <tbody>\n",
       "    <tr>\n",
       "      <th>0</th>\n",
       "      <td>Urban</td>\n",
       "      <td>Bachelor's</td>\n",
       "      <td>17.0</td>\n",
       "      <td>Premium</td>\n",
       "      <td>House</td>\n",
       "      <td>Weekly</td>\n",
       "      <td>No</td>\n",
       "      <td>23</td>\n",
       "      <td>Female</td>\n",
       "      <td>5.0</td>\n",
       "    </tr>\n",
       "    <tr>\n",
       "      <th>1</th>\n",
       "      <td>Rural</td>\n",
       "      <td>Master's</td>\n",
       "      <td>12.0</td>\n",
       "      <td>Comprehensive</td>\n",
       "      <td>House</td>\n",
       "      <td>Monthly</td>\n",
       "      <td>Yes</td>\n",
       "      <td>12</td>\n",
       "      <td>Female</td>\n",
       "      <td>2.0</td>\n",
       "    </tr>\n",
       "    <tr>\n",
       "      <th>2</th>\n",
       "      <td>Suburban</td>\n",
       "      <td>High School</td>\n",
       "      <td>14.0</td>\n",
       "      <td>Premium</td>\n",
       "      <td>House</td>\n",
       "      <td>Weekly</td>\n",
       "      <td>Yes</td>\n",
       "      <td>30</td>\n",
       "      <td>Male</td>\n",
       "      <td>3.0</td>\n",
       "    </tr>\n",
       "  </tbody>\n",
       "</table>\n",
       "</div>"
      ],
      "text/plain": [
       "   Location Education Level  Vehicle Age    Policy Type Property Type  \\\n",
       "0     Urban      Bachelor's         17.0        Premium         House   \n",
       "1     Rural        Master's         12.0  Comprehensive         House   \n",
       "2  Suburban     High School         14.0        Premium         House   \n",
       "\n",
       "  Exercise Frequency Smoking Status Policy Start Date - Day  Gender  \\\n",
       "0             Weekly             No                      23  Female   \n",
       "1            Monthly            Yes                      12  Female   \n",
       "2             Weekly            Yes                      30    Male   \n",
       "\n",
       "   Insurance Duration  \n",
       "0                 5.0  \n",
       "1                 2.0  \n",
       "2                 3.0  "
      ]
     },
     "execution_count": 229,
     "metadata": {},
     "output_type": "execute_result"
    }
   ],
   "source": [
    "meaningless_df = df[useless_columns]\n",
    "meaningless_df.head(3)"
   ]
  },
  {
   "cell_type": "code",
   "execution_count": 230,
   "id": "893628f4-1041-45a4-8c44-68cb662b65f1",
   "metadata": {
    "execution": {
     "iopub.execute_input": "2024-12-14T09:30:41.240466Z",
     "iopub.status.busy": "2024-12-14T09:30:41.240466Z",
     "iopub.status.idle": "2024-12-14T09:30:41.388557Z",
     "shell.execute_reply": "2024-12-14T09:30:41.388557Z",
     "shell.execute_reply.started": "2024-12-14T09:30:41.240466Z"
    }
   },
   "outputs": [
    {
     "data": {
      "text/html": [
       "<div>\n",
       "<style scoped>\n",
       "    .dataframe tbody tr th:only-of-type {\n",
       "        vertical-align: middle;\n",
       "    }\n",
       "\n",
       "    .dataframe tbody tr th {\n",
       "        vertical-align: top;\n",
       "    }\n",
       "\n",
       "    .dataframe thead th {\n",
       "        text-align: right;\n",
       "    }\n",
       "</style>\n",
       "<table border=\"1\" class=\"dataframe\">\n",
       "  <thead>\n",
       "    <tr style=\"text-align: right;\">\n",
       "      <th></th>\n",
       "      <th>Annual Income</th>\n",
       "      <th>Credit Score</th>\n",
       "      <th>Premium Amount</th>\n",
       "      <th>Previous Claims</th>\n",
       "      <th>Policy Start Date - Year</th>\n",
       "      <th>Policy Start Date - Quarter</th>\n",
       "      <th>Health Score</th>\n",
       "      <th>Policy Start Date - Month</th>\n",
       "      <th>Customer Feedback</th>\n",
       "      <th>Occupation</th>\n",
       "      <th>Age</th>\n",
       "      <th>Number of Dependents</th>\n",
       "      <th>Marital Status</th>\n",
       "    </tr>\n",
       "  </thead>\n",
       "  <tbody>\n",
       "    <tr>\n",
       "      <th>0</th>\n",
       "      <td>10049.0</td>\n",
       "      <td>372.0</td>\n",
       "      <td>2869.0</td>\n",
       "      <td>2.0</td>\n",
       "      <td>2023</td>\n",
       "      <td>2023 Q4</td>\n",
       "      <td>22.598761</td>\n",
       "      <td>12</td>\n",
       "      <td>Poor</td>\n",
       "      <td>Self-Employed</td>\n",
       "      <td>19.0</td>\n",
       "      <td>1.0</td>\n",
       "      <td>Married</td>\n",
       "    </tr>\n",
       "    <tr>\n",
       "      <th>1</th>\n",
       "      <td>31678.0</td>\n",
       "      <td>694.0</td>\n",
       "      <td>1483.0</td>\n",
       "      <td>1.0</td>\n",
       "      <td>2023</td>\n",
       "      <td>2023 Q2</td>\n",
       "      <td>15.569731</td>\n",
       "      <td>6</td>\n",
       "      <td>Average</td>\n",
       "      <td>Self-Employed</td>\n",
       "      <td>39.0</td>\n",
       "      <td>3.0</td>\n",
       "      <td>Divorced</td>\n",
       "    </tr>\n",
       "    <tr>\n",
       "      <th>2</th>\n",
       "      <td>25602.0</td>\n",
       "      <td>555.0</td>\n",
       "      <td>567.0</td>\n",
       "      <td>1.0</td>\n",
       "      <td>2023</td>\n",
       "      <td>2023 Q3</td>\n",
       "      <td>47.177549</td>\n",
       "      <td>9</td>\n",
       "      <td>Good</td>\n",
       "      <td>Self-Employed</td>\n",
       "      <td>23.0</td>\n",
       "      <td>3.0</td>\n",
       "      <td>Divorced</td>\n",
       "    </tr>\n",
       "  </tbody>\n",
       "</table>\n",
       "</div>"
      ],
      "text/plain": [
       "   Annual Income  Credit Score  Premium Amount  Previous Claims  \\\n",
       "0        10049.0         372.0          2869.0              2.0   \n",
       "1        31678.0         694.0          1483.0              1.0   \n",
       "2        25602.0         555.0           567.0              1.0   \n",
       "\n",
       "  Policy Start Date - Year Policy Start Date - Quarter  Health Score  \\\n",
       "0                     2023                     2023 Q4     22.598761   \n",
       "1                     2023                     2023 Q2     15.569731   \n",
       "2                     2023                     2023 Q3     47.177549   \n",
       "\n",
       "  Policy Start Date - Month Customer Feedback     Occupation   Age  \\\n",
       "0                        12              Poor  Self-Employed  19.0   \n",
       "1                         6           Average  Self-Employed  39.0   \n",
       "2                         9              Good  Self-Employed  23.0   \n",
       "\n",
       "   Number of Dependents Marital Status  \n",
       "0                   1.0        Married  \n",
       "1                   3.0       Divorced  \n",
       "2                   3.0       Divorced  "
      ]
     },
     "execution_count": 230,
     "metadata": {},
     "output_type": "execute_result"
    }
   ],
   "source": [
    "df = df[stats_result[stats_result[\"P-Value\"] < 0.025][\"Feature\"]]\n",
    "df.head(3)"
   ]
  },
  {
   "cell_type": "markdown",
   "id": "679990a9-3d53-42e3-b9cc-ddf7d370bc0c",
   "metadata": {},
   "source": [
    "# Compressing Meaningless DF's information in a component using PCA"
   ]
  },
  {
   "cell_type": "code",
   "execution_count": 231,
   "id": "a33cb7f0-4250-43f6-bdb0-5f3c8249d599",
   "metadata": {
    "execution": {
     "iopub.execute_input": "2024-12-14T09:30:41.389604Z",
     "iopub.status.busy": "2024-12-14T09:30:41.389604Z",
     "iopub.status.idle": "2024-12-14T09:30:41.400496Z",
     "shell.execute_reply": "2024-12-14T09:30:41.400496Z",
     "shell.execute_reply.started": "2024-12-14T09:30:41.389604Z"
    }
   },
   "outputs": [
    {
     "data": {
      "text/html": [
       "<div>\n",
       "<style scoped>\n",
       "    .dataframe tbody tr th:only-of-type {\n",
       "        vertical-align: middle;\n",
       "    }\n",
       "\n",
       "    .dataframe tbody tr th {\n",
       "        vertical-align: top;\n",
       "    }\n",
       "\n",
       "    .dataframe thead th {\n",
       "        text-align: right;\n",
       "    }\n",
       "</style>\n",
       "<table border=\"1\" class=\"dataframe\">\n",
       "  <thead>\n",
       "    <tr style=\"text-align: right;\">\n",
       "      <th></th>\n",
       "      <th>Location</th>\n",
       "      <th>Education Level</th>\n",
       "      <th>Vehicle Age</th>\n",
       "      <th>Policy Type</th>\n",
       "      <th>Property Type</th>\n",
       "      <th>Exercise Frequency</th>\n",
       "      <th>Smoking Status</th>\n",
       "      <th>Policy Start Date - Day</th>\n",
       "      <th>Gender</th>\n",
       "      <th>Insurance Duration</th>\n",
       "    </tr>\n",
       "  </thead>\n",
       "  <tbody>\n",
       "    <tr>\n",
       "      <th>0</th>\n",
       "      <td>Urban</td>\n",
       "      <td>Bachelor's</td>\n",
       "      <td>17.0</td>\n",
       "      <td>Premium</td>\n",
       "      <td>House</td>\n",
       "      <td>Weekly</td>\n",
       "      <td>No</td>\n",
       "      <td>23</td>\n",
       "      <td>Female</td>\n",
       "      <td>5.0</td>\n",
       "    </tr>\n",
       "    <tr>\n",
       "      <th>1</th>\n",
       "      <td>Rural</td>\n",
       "      <td>Master's</td>\n",
       "      <td>12.0</td>\n",
       "      <td>Comprehensive</td>\n",
       "      <td>House</td>\n",
       "      <td>Monthly</td>\n",
       "      <td>Yes</td>\n",
       "      <td>12</td>\n",
       "      <td>Female</td>\n",
       "      <td>2.0</td>\n",
       "    </tr>\n",
       "    <tr>\n",
       "      <th>2</th>\n",
       "      <td>Suburban</td>\n",
       "      <td>High School</td>\n",
       "      <td>14.0</td>\n",
       "      <td>Premium</td>\n",
       "      <td>House</td>\n",
       "      <td>Weekly</td>\n",
       "      <td>Yes</td>\n",
       "      <td>30</td>\n",
       "      <td>Male</td>\n",
       "      <td>3.0</td>\n",
       "    </tr>\n",
       "  </tbody>\n",
       "</table>\n",
       "</div>"
      ],
      "text/plain": [
       "   Location Education Level  Vehicle Age    Policy Type Property Type  \\\n",
       "0     Urban      Bachelor's         17.0        Premium         House   \n",
       "1     Rural        Master's         12.0  Comprehensive         House   \n",
       "2  Suburban     High School         14.0        Premium         House   \n",
       "\n",
       "  Exercise Frequency Smoking Status Policy Start Date - Day  Gender  \\\n",
       "0             Weekly             No                      23  Female   \n",
       "1            Monthly            Yes                      12  Female   \n",
       "2             Weekly            Yes                      30    Male   \n",
       "\n",
       "   Insurance Duration  \n",
       "0                 5.0  \n",
       "1                 2.0  \n",
       "2                 3.0  "
      ]
     },
     "execution_count": 231,
     "metadata": {},
     "output_type": "execute_result"
    }
   ],
   "source": [
    "meaningless_df.head(3)"
   ]
  },
  {
   "cell_type": "markdown",
   "id": "0a66a0ee-cdbe-404b-bf61-6f56240191ea",
   "metadata": {},
   "source": [
    "## Endoing Columns"
   ]
  },
  {
   "cell_type": "code",
   "execution_count": 232,
   "id": "4bf54664-a82a-422e-a600-8647c0ea58dd",
   "metadata": {
    "execution": {
     "iopub.execute_input": "2024-12-14T09:30:41.401458Z",
     "iopub.status.busy": "2024-12-14T09:30:41.401458Z",
     "iopub.status.idle": "2024-12-14T09:30:41.406012Z",
     "shell.execute_reply": "2024-12-14T09:30:41.405165Z",
     "shell.execute_reply.started": "2024-12-14T09:30:41.401458Z"
    }
   },
   "outputs": [],
   "source": [
    "from sklearn.preprocessing import OneHotEncoder, OrdinalEncoder"
   ]
  },
  {
   "cell_type": "markdown",
   "id": "e1634c9c-f831-4797-8cad-dc8365fd3321",
   "metadata": {},
   "source": [
    "###\n",
    "---\n",
    "###"
   ]
  },
  {
   "cell_type": "code",
   "execution_count": 233,
   "id": "704b059b-d72d-47c1-b620-c6e2d68d651b",
   "metadata": {
    "execution": {
     "iopub.execute_input": "2024-12-14T09:30:41.407156Z",
     "iopub.status.busy": "2024-12-14T09:30:41.407156Z",
     "iopub.status.idle": "2024-12-14T09:30:41.503170Z",
     "shell.execute_reply": "2024-12-14T09:30:41.503170Z",
     "shell.execute_reply.started": "2024-12-14T09:30:41.407156Z"
    }
   },
   "outputs": [
    {
     "data": {
      "text/plain": [
       "array(['Urban', 'Rural', 'Suburban'], dtype=object)"
      ]
     },
     "execution_count": 233,
     "metadata": {},
     "output_type": "execute_result"
    }
   ],
   "source": [
    "meaningless_df[\"Location\"].unique()"
   ]
  },
  {
   "cell_type": "code",
   "execution_count": 234,
   "id": "97a2f808-5369-4fe0-8306-2aef16ec0dae",
   "metadata": {
    "execution": {
     "iopub.execute_input": "2024-12-14T09:30:41.505024Z",
     "iopub.status.busy": "2024-12-14T09:30:41.504015Z",
     "iopub.status.idle": "2024-12-14T09:30:42.294222Z",
     "shell.execute_reply": "2024-12-14T09:30:42.294222Z",
     "shell.execute_reply.started": "2024-12-14T09:30:41.505024Z"
    }
   },
   "outputs": [],
   "source": [
    "a = OrdinalEncoder(categories=[['Rural', 'Suburban', 'Urban']])\n",
    "\n",
    "b = pd.DataFrame({\"ENCODED_Location\" : a.fit_transform(meaningless_df[[\"Location\"]]).flatten()})\n",
    "\n",
    "meaningless_df = pd.concat([meaningless_df, b], axis=1)\n",
    "meaningless_df.drop(columns=\"Location\", inplace=True)"
   ]
  },
  {
   "cell_type": "markdown",
   "id": "357b3b42-b23d-4bbf-bd22-222f1343fb1d",
   "metadata": {},
   "source": [
    "###\n",
    "---\n",
    "###"
   ]
  },
  {
   "cell_type": "code",
   "execution_count": 235,
   "id": "af992ded-7cb3-4f3e-bd47-888e74fb6cd6",
   "metadata": {
    "execution": {
     "iopub.execute_input": "2024-12-14T09:30:42.294222Z",
     "iopub.status.busy": "2024-12-14T09:30:42.294222Z",
     "iopub.status.idle": "2024-12-14T09:30:42.409725Z",
     "shell.execute_reply": "2024-12-14T09:30:42.409725Z",
     "shell.execute_reply.started": "2024-12-14T09:30:42.294222Z"
    }
   },
   "outputs": [
    {
     "data": {
      "text/plain": [
       "array([\"Bachelor's\", \"Master's\", 'High School', 'PhD'], dtype=object)"
      ]
     },
     "execution_count": 235,
     "metadata": {},
     "output_type": "execute_result"
    }
   ],
   "source": [
    "meaningless_df[\"Education Level\"].unique()"
   ]
  },
  {
   "cell_type": "code",
   "execution_count": 236,
   "id": "6ba5bcfa-54bd-4357-b730-40fa2b2b02c5",
   "metadata": {
    "execution": {
     "iopub.execute_input": "2024-12-14T09:30:42.410844Z",
     "iopub.status.busy": "2024-12-14T09:30:42.410844Z",
     "iopub.status.idle": "2024-12-14T09:30:43.106820Z",
     "shell.execute_reply": "2024-12-14T09:30:43.106820Z",
     "shell.execute_reply.started": "2024-12-14T09:30:42.410844Z"
    }
   },
   "outputs": [],
   "source": [
    "a = OrdinalEncoder(categories=[['High School', \"Bachelor's\", \"Master's\", 'PhD']])\n",
    "\n",
    "b = pd.DataFrame({\"ENCODED_Education Level\" : a.fit_transform(meaningless_df[[\"Education Level\"]]).flatten()})\n",
    "\n",
    "meaningless_df = pd.concat([meaningless_df, b], axis=1)\n",
    "meaningless_df.drop(columns=\"Education Level\", inplace=True)"
   ]
  },
  {
   "cell_type": "markdown",
   "id": "17feee62-1584-47d0-bb8a-b8935a6fd36a",
   "metadata": {},
   "source": [
    "###\n",
    "---\n",
    "###"
   ]
  },
  {
   "cell_type": "code",
   "execution_count": 237,
   "id": "2bfdac0d-99d7-45fe-a544-59d96e08c5b0",
   "metadata": {
    "execution": {
     "iopub.execute_input": "2024-12-14T09:30:43.106820Z",
     "iopub.status.busy": "2024-12-14T09:30:43.106820Z",
     "iopub.status.idle": "2024-12-14T09:30:43.220049Z",
     "shell.execute_reply": "2024-12-14T09:30:43.220049Z",
     "shell.execute_reply.started": "2024-12-14T09:30:43.106820Z"
    }
   },
   "outputs": [
    {
     "data": {
      "text/plain": [
       "array(['Premium', 'Comprehensive', 'Basic'], dtype=object)"
      ]
     },
     "execution_count": 237,
     "metadata": {},
     "output_type": "execute_result"
    }
   ],
   "source": [
    "meaningless_df[\"Policy Type\"].unique()"
   ]
  },
  {
   "cell_type": "code",
   "execution_count": 238,
   "id": "9c5b10a5-58d6-40e0-a971-9bd30b1854c0",
   "metadata": {
    "execution": {
     "iopub.execute_input": "2024-12-14T09:30:43.221350Z",
     "iopub.status.busy": "2024-12-14T09:30:43.221350Z",
     "iopub.status.idle": "2024-12-14T09:30:43.916806Z",
     "shell.execute_reply": "2024-12-14T09:30:43.916806Z",
     "shell.execute_reply.started": "2024-12-14T09:30:43.221350Z"
    }
   },
   "outputs": [],
   "source": [
    "a = OrdinalEncoder(categories=[['Basic', 'Comprehensive', 'Premium']])\n",
    "\n",
    "b = pd.DataFrame({\"ENCODED_Policy Type\" : a.fit_transform(meaningless_df[[\"Policy Type\"]]).flatten()})\n",
    "\n",
    "meaningless_df = pd.concat([meaningless_df, b], axis=1)\n",
    "meaningless_df.drop(columns=\"Policy Type\", inplace=True)"
   ]
  },
  {
   "cell_type": "markdown",
   "id": "77b03931-3b3f-4dbd-9520-52d12d652e81",
   "metadata": {},
   "source": [
    "###\n",
    "---\n",
    "###"
   ]
  },
  {
   "cell_type": "code",
   "execution_count": 239,
   "id": "8475fd8d-afef-401e-aecb-d4b24d4254e9",
   "metadata": {
    "execution": {
     "iopub.execute_input": "2024-12-14T09:30:43.916806Z",
     "iopub.status.busy": "2024-12-14T09:30:43.916806Z",
     "iopub.status.idle": "2024-12-14T09:30:44.674447Z",
     "shell.execute_reply": "2024-12-14T09:30:44.674447Z",
     "shell.execute_reply.started": "2024-12-14T09:30:43.916806Z"
    }
   },
   "outputs": [],
   "source": [
    "a = OneHotEncoder(drop=\"first\", sparse_output=False)\n",
    "\n",
    "b = pd.DataFrame(\n",
    "        a.fit_transform(meaningless_df[[\"Property Type\"]]),\n",
    "        columns=a.get_feature_names_out()\n",
    "    )\n",
    "\n",
    "meaningless_df = pd.concat([meaningless_df, b], axis=1)\n",
    "meaningless_df.drop(columns=\"Property Type\", inplace=True)"
   ]
  },
  {
   "cell_type": "markdown",
   "id": "a012bc76-3414-47ce-a031-11bb1e27d1d6",
   "metadata": {},
   "source": [
    "###\n",
    "---\n",
    "###"
   ]
  },
  {
   "cell_type": "code",
   "execution_count": 240,
   "id": "18b7ba16-9011-46e9-9be5-ba27406db0a8",
   "metadata": {
    "execution": {
     "iopub.execute_input": "2024-12-14T09:30:44.676884Z",
     "iopub.status.busy": "2024-12-14T09:30:44.675954Z",
     "iopub.status.idle": "2024-12-14T09:30:44.773139Z",
     "shell.execute_reply": "2024-12-14T09:30:44.773139Z",
     "shell.execute_reply.started": "2024-12-14T09:30:44.676884Z"
    }
   },
   "outputs": [
    {
     "data": {
      "text/plain": [
       "array(['Weekly', 'Monthly', 'Daily', 'Rarely'], dtype=object)"
      ]
     },
     "execution_count": 240,
     "metadata": {},
     "output_type": "execute_result"
    }
   ],
   "source": [
    "meaningless_df[\"Exercise Frequency\"].unique()"
   ]
  },
  {
   "cell_type": "code",
   "execution_count": 241,
   "id": "d8ae129a-671c-44c3-b3f0-9957ddcac6f8",
   "metadata": {
    "execution": {
     "iopub.execute_input": "2024-12-14T09:30:44.775304Z",
     "iopub.status.busy": "2024-12-14T09:30:44.774256Z",
     "iopub.status.idle": "2024-12-14T09:30:45.454341Z",
     "shell.execute_reply": "2024-12-14T09:30:45.454341Z",
     "shell.execute_reply.started": "2024-12-14T09:30:44.775304Z"
    }
   },
   "outputs": [],
   "source": [
    "a = OrdinalEncoder(categories=[['Rarely', 'Monthly', 'Weekly', 'Daily']])\n",
    "\n",
    "b = pd.DataFrame({\"ENCODED_Exercise Frequency\" : a.fit_transform(meaningless_df[[\"Exercise Frequency\"]]).flatten()})\n",
    "\n",
    "meaningless_df = pd.concat([meaningless_df, b], axis=1)\n",
    "meaningless_df.drop(columns=\"Exercise Frequency\", inplace=True)"
   ]
  },
  {
   "cell_type": "markdown",
   "id": "eeed5222-be47-41e7-a753-d6e52c95308d",
   "metadata": {},
   "source": [
    "###\n",
    "---\n",
    "###"
   ]
  },
  {
   "cell_type": "code",
   "execution_count": 242,
   "id": "547a4f9b-9997-4749-8071-17606ec931b6",
   "metadata": {
    "execution": {
     "iopub.execute_input": "2024-12-14T09:30:45.454341Z",
     "iopub.status.busy": "2024-12-14T09:30:45.454341Z",
     "iopub.status.idle": "2024-12-14T09:30:46.205543Z",
     "shell.execute_reply": "2024-12-14T09:30:46.205543Z",
     "shell.execute_reply.started": "2024-12-14T09:30:45.454341Z"
    }
   },
   "outputs": [],
   "source": [
    "a = OneHotEncoder(drop=\"first\", sparse_output=False)\n",
    "\n",
    "b = pd.DataFrame(\n",
    "        a.fit_transform(meaningless_df[[\"Smoking Status\"]]),\n",
    "        columns=a.get_feature_names_out()\n",
    "    )\n",
    "\n",
    "meaningless_df = pd.concat([meaningless_df, b], axis=1)\n",
    "meaningless_df.drop(columns=\"Smoking Status\", inplace=True)"
   ]
  },
  {
   "cell_type": "markdown",
   "id": "72676524-22ec-4447-8b48-e69f9ef067da",
   "metadata": {},
   "source": [
    "###\n",
    "---\n",
    "###"
   ]
  },
  {
   "cell_type": "code",
   "execution_count": 243,
   "id": "340b548e-2680-4c5b-9b14-53be618d15f9",
   "metadata": {
    "execution": {
     "iopub.execute_input": "2024-12-14T09:30:46.206582Z",
     "iopub.status.busy": "2024-12-14T09:30:46.206582Z",
     "iopub.status.idle": "2024-12-14T09:30:46.961803Z",
     "shell.execute_reply": "2024-12-14T09:30:46.961803Z",
     "shell.execute_reply.started": "2024-12-14T09:30:46.206582Z"
    }
   },
   "outputs": [],
   "source": [
    "a = OneHotEncoder(drop=\"first\", sparse_output=False)\n",
    "\n",
    "b = pd.DataFrame(\n",
    "        a.fit_transform(meaningless_df[[\"Gender\"]]),\n",
    "        columns=a.get_feature_names_out()\n",
    "    )\n",
    "\n",
    "meaningless_df = pd.concat([meaningless_df, b], axis=1)\n",
    "meaningless_df.drop(columns=\"Gender\", inplace=True)"
   ]
  },
  {
   "cell_type": "markdown",
   "id": "2785dc11-1ff4-4081-8216-fc5c455f7ef5",
   "metadata": {},
   "source": [
    "###\n",
    "---\n",
    "###"
   ]
  },
  {
   "cell_type": "code",
   "execution_count": 244,
   "id": "1fab6a42-987f-4e0c-befb-134766693c8d",
   "metadata": {
    "execution": {
     "iopub.execute_input": "2024-12-14T09:30:46.963348Z",
     "iopub.status.busy": "2024-12-14T09:30:46.963348Z",
     "iopub.status.idle": "2024-12-14T09:30:47.029351Z",
     "shell.execute_reply": "2024-12-14T09:30:47.029351Z",
     "shell.execute_reply.started": "2024-12-14T09:30:46.963348Z"
    }
   },
   "outputs": [],
   "source": [
    "meaningless_df[\"Policy Start Date - Day\"] = meaningless_df[\"Policy Start Date - Day\"].astype(int)"
   ]
  },
  {
   "cell_type": "markdown",
   "id": "aa9aadb8-3616-4f4a-a423-b392cd46d192",
   "metadata": {},
   "source": [
    "#\n",
    "---\n",
    "#"
   ]
  },
  {
   "cell_type": "code",
   "execution_count": 245,
   "id": "66d62071-e94a-4577-8837-8222b0bc3070",
   "metadata": {
    "execution": {
     "iopub.execute_input": "2024-12-14T09:30:47.029351Z",
     "iopub.status.busy": "2024-12-14T09:30:47.029351Z",
     "iopub.status.idle": "2024-12-14T09:30:47.044787Z",
     "shell.execute_reply": "2024-12-14T09:30:47.044787Z",
     "shell.execute_reply.started": "2024-12-14T09:30:47.029351Z"
    }
   },
   "outputs": [
    {
     "data": {
      "text/html": [
       "<div>\n",
       "<style scoped>\n",
       "    .dataframe tbody tr th:only-of-type {\n",
       "        vertical-align: middle;\n",
       "    }\n",
       "\n",
       "    .dataframe tbody tr th {\n",
       "        vertical-align: top;\n",
       "    }\n",
       "\n",
       "    .dataframe thead th {\n",
       "        text-align: right;\n",
       "    }\n",
       "</style>\n",
       "<table border=\"1\" class=\"dataframe\">\n",
       "  <thead>\n",
       "    <tr style=\"text-align: right;\">\n",
       "      <th></th>\n",
       "      <th>Vehicle Age</th>\n",
       "      <th>Policy Start Date - Day</th>\n",
       "      <th>Insurance Duration</th>\n",
       "      <th>ENCODED_Location</th>\n",
       "      <th>ENCODED_Education Level</th>\n",
       "      <th>ENCODED_Policy Type</th>\n",
       "      <th>Property Type_Condo</th>\n",
       "      <th>Property Type_House</th>\n",
       "      <th>ENCODED_Exercise Frequency</th>\n",
       "      <th>Smoking Status_Yes</th>\n",
       "      <th>Gender_Male</th>\n",
       "    </tr>\n",
       "  </thead>\n",
       "  <tbody>\n",
       "    <tr>\n",
       "      <th>0</th>\n",
       "      <td>17.0</td>\n",
       "      <td>23</td>\n",
       "      <td>5.0</td>\n",
       "      <td>2.0</td>\n",
       "      <td>1.0</td>\n",
       "      <td>2.0</td>\n",
       "      <td>0.0</td>\n",
       "      <td>1.0</td>\n",
       "      <td>2.0</td>\n",
       "      <td>0.0</td>\n",
       "      <td>0.0</td>\n",
       "    </tr>\n",
       "    <tr>\n",
       "      <th>1</th>\n",
       "      <td>12.0</td>\n",
       "      <td>12</td>\n",
       "      <td>2.0</td>\n",
       "      <td>0.0</td>\n",
       "      <td>2.0</td>\n",
       "      <td>1.0</td>\n",
       "      <td>0.0</td>\n",
       "      <td>1.0</td>\n",
       "      <td>1.0</td>\n",
       "      <td>1.0</td>\n",
       "      <td>0.0</td>\n",
       "    </tr>\n",
       "    <tr>\n",
       "      <th>2</th>\n",
       "      <td>14.0</td>\n",
       "      <td>30</td>\n",
       "      <td>3.0</td>\n",
       "      <td>1.0</td>\n",
       "      <td>0.0</td>\n",
       "      <td>2.0</td>\n",
       "      <td>0.0</td>\n",
       "      <td>1.0</td>\n",
       "      <td>2.0</td>\n",
       "      <td>1.0</td>\n",
       "      <td>1.0</td>\n",
       "    </tr>\n",
       "  </tbody>\n",
       "</table>\n",
       "</div>"
      ],
      "text/plain": [
       "   Vehicle Age  Policy Start Date - Day  Insurance Duration  ENCODED_Location  \\\n",
       "0         17.0                       23                 5.0               2.0   \n",
       "1         12.0                       12                 2.0               0.0   \n",
       "2         14.0                       30                 3.0               1.0   \n",
       "\n",
       "   ENCODED_Education Level  ENCODED_Policy Type  Property Type_Condo  \\\n",
       "0                      1.0                  2.0                  0.0   \n",
       "1                      2.0                  1.0                  0.0   \n",
       "2                      0.0                  2.0                  0.0   \n",
       "\n",
       "   Property Type_House  ENCODED_Exercise Frequency  Smoking Status_Yes  \\\n",
       "0                  1.0                         2.0                 0.0   \n",
       "1                  1.0                         1.0                 1.0   \n",
       "2                  1.0                         2.0                 1.0   \n",
       "\n",
       "   Gender_Male  \n",
       "0          0.0  \n",
       "1          0.0  \n",
       "2          1.0  "
      ]
     },
     "execution_count": 245,
     "metadata": {},
     "output_type": "execute_result"
    }
   ],
   "source": [
    "meaningless_df.head(3)"
   ]
  },
  {
   "cell_type": "code",
   "execution_count": 246,
   "id": "e036b96a-4e9f-4542-a4e9-42a1e8bd5ee9",
   "metadata": {
    "execution": {
     "iopub.execute_input": "2024-12-14T09:30:47.046799Z",
     "iopub.status.busy": "2024-12-14T09:30:47.045855Z",
     "iopub.status.idle": "2024-12-14T09:30:47.053318Z",
     "shell.execute_reply": "2024-12-14T09:30:47.053318Z",
     "shell.execute_reply.started": "2024-12-14T09:30:47.046799Z"
    }
   },
   "outputs": [
    {
     "data": {
      "text/plain": [
       "Vehicle Age                   float64\n",
       "Policy Start Date - Day         int64\n",
       "Insurance Duration            float64\n",
       "ENCODED_Location              float64\n",
       "ENCODED_Education Level       float64\n",
       "ENCODED_Policy Type           float64\n",
       "Property Type_Condo           float64\n",
       "Property Type_House           float64\n",
       "ENCODED_Exercise Frequency    float64\n",
       "Smoking Status_Yes            float64\n",
       "Gender_Male                   float64\n",
       "dtype: object"
      ]
     },
     "execution_count": 246,
     "metadata": {},
     "output_type": "execute_result"
    }
   ],
   "source": [
    "meaningless_df.dtypes"
   ]
  },
  {
   "cell_type": "markdown",
   "id": "3dbeaae8-a1fa-40a2-8d28-916cc7237046",
   "metadata": {},
   "source": [
    "###\n",
    "---\n",
    "###"
   ]
  },
  {
   "cell_type": "markdown",
   "id": "75d565f3-7e5c-4326-96f8-e3d79ebc0082",
   "metadata": {},
   "source": [
    "# Doing PCA on this `meaningless_df`"
   ]
  },
  {
   "cell_type": "code",
   "execution_count": 247,
   "id": "259cad6c-dca1-43a9-891f-64070ef0dac3",
   "metadata": {
    "execution": {
     "iopub.execute_input": "2024-12-14T09:30:47.055342Z",
     "iopub.status.busy": "2024-12-14T09:30:47.053318Z",
     "iopub.status.idle": "2024-12-14T09:30:47.059669Z",
     "shell.execute_reply": "2024-12-14T09:30:47.058513Z",
     "shell.execute_reply.started": "2024-12-14T09:30:47.055342Z"
    }
   },
   "outputs": [],
   "source": [
    "from sklearn.decomposition import PCA"
   ]
  },
  {
   "cell_type": "code",
   "execution_count": 248,
   "id": "5125f13f-1c8e-4e5b-b7be-6c3f7c8c57b2",
   "metadata": {
    "execution": {
     "iopub.execute_input": "2024-12-14T09:30:47.065918Z",
     "iopub.status.busy": "2024-12-14T09:30:47.064874Z",
     "iopub.status.idle": "2024-12-14T09:30:47.291225Z",
     "shell.execute_reply": "2024-12-14T09:30:47.291225Z",
     "shell.execute_reply.started": "2024-12-14T09:30:47.065918Z"
    }
   },
   "outputs": [
    {
     "data": {
      "text/html": [
       "<div>\n",
       "<style scoped>\n",
       "    .dataframe tbody tr th:only-of-type {\n",
       "        vertical-align: middle;\n",
       "    }\n",
       "\n",
       "    .dataframe tbody tr th {\n",
       "        vertical-align: top;\n",
       "    }\n",
       "\n",
       "    .dataframe thead th {\n",
       "        text-align: right;\n",
       "    }\n",
       "</style>\n",
       "<table border=\"1\" class=\"dataframe\">\n",
       "  <thead>\n",
       "    <tr style=\"text-align: right;\">\n",
       "      <th></th>\n",
       "      <th>PC1_Meaningless_df</th>\n",
       "      <th>PC2_Meaningless_df</th>\n",
       "      <th>PC3_Meaningless_df</th>\n",
       "    </tr>\n",
       "  </thead>\n",
       "  <tbody>\n",
       "    <tr>\n",
       "      <th>0</th>\n",
       "      <td>7.296560</td>\n",
       "      <td>7.422362</td>\n",
       "      <td>-0.026015</td>\n",
       "    </tr>\n",
       "    <tr>\n",
       "      <th>1</th>\n",
       "      <td>-3.707459</td>\n",
       "      <td>2.428130</td>\n",
       "      <td>-3.023998</td>\n",
       "    </tr>\n",
       "    <tr>\n",
       "      <th>2</th>\n",
       "      <td>14.294341</td>\n",
       "      <td>4.412807</td>\n",
       "      <td>-2.019879</td>\n",
       "    </tr>\n",
       "    <tr>\n",
       "      <th>3</th>\n",
       "      <td>-3.718270</td>\n",
       "      <td>-9.573107</td>\n",
       "      <td>-4.005108</td>\n",
       "    </tr>\n",
       "    <tr>\n",
       "      <th>4</th>\n",
       "      <td>-14.711684</td>\n",
       "      <td>-1.558834</td>\n",
       "      <td>-1.020776</td>\n",
       "    </tr>\n",
       "    <tr>\n",
       "      <th>...</th>\n",
       "      <td>...</td>\n",
       "      <td>...</td>\n",
       "      <td>...</td>\n",
       "    </tr>\n",
       "    <tr>\n",
       "      <th>1999995</th>\n",
       "      <td>-6.711192</td>\n",
       "      <td>-1.568796</td>\n",
       "      <td>-3.017960</td>\n",
       "    </tr>\n",
       "    <tr>\n",
       "      <th>1999996</th>\n",
       "      <td>12.281364</td>\n",
       "      <td>-9.586366</td>\n",
       "      <td>-3.000567</td>\n",
       "    </tr>\n",
       "    <tr>\n",
       "      <th>1999997</th>\n",
       "      <td>14.289683</td>\n",
       "      <td>0.417671</td>\n",
       "      <td>0.985283</td>\n",
       "    </tr>\n",
       "    <tr>\n",
       "      <th>1999998</th>\n",
       "      <td>-6.704185</td>\n",
       "      <td>7.438721</td>\n",
       "      <td>1.969261</td>\n",
       "    </tr>\n",
       "    <tr>\n",
       "      <th>1999999</th>\n",
       "      <td>2.293869</td>\n",
       "      <td>5.431028</td>\n",
       "      <td>2.973742</td>\n",
       "    </tr>\n",
       "  </tbody>\n",
       "</table>\n",
       "<p>2000000 rows × 3 columns</p>\n",
       "</div>"
      ],
      "text/plain": [
       "         PC1_Meaningless_df  PC2_Meaningless_df  PC3_Meaningless_df\n",
       "0                  7.296560            7.422362           -0.026015\n",
       "1                 -3.707459            2.428130           -3.023998\n",
       "2                 14.294341            4.412807           -2.019879\n",
       "3                 -3.718270           -9.573107           -4.005108\n",
       "4                -14.711684           -1.558834           -1.020776\n",
       "...                     ...                 ...                 ...\n",
       "1999995           -6.711192           -1.568796           -3.017960\n",
       "1999996           12.281364           -9.586366           -3.000567\n",
       "1999997           14.289683            0.417671            0.985283\n",
       "1999998           -6.704185            7.438721            1.969261\n",
       "1999999            2.293869            5.431028            2.973742\n",
       "\n",
       "[2000000 rows x 3 columns]"
      ]
     },
     "execution_count": 248,
     "metadata": {},
     "output_type": "execute_result"
    }
   ],
   "source": [
    "pca = PCA(n_components=3)\n",
    "pca_df = pd.DataFrame(pca.fit_transform(meaningless_df), columns=['PC1_Meaningless_df', \"PC2_Meaningless_df\", \"PC3_Meaningless_df\"])\n",
    "pca_df"
   ]
  },
  {
   "cell_type": "code",
   "execution_count": 249,
   "id": "8e1aaa03-142d-48ca-81c5-ca07e8d78861",
   "metadata": {
    "execution": {
     "iopub.execute_input": "2024-12-14T09:30:47.292578Z",
     "iopub.status.busy": "2024-12-14T09:30:47.291225Z",
     "iopub.status.idle": "2024-12-14T09:30:47.297344Z",
     "shell.execute_reply": "2024-12-14T09:30:47.297344Z",
     "shell.execute_reply.started": "2024-12-14T09:30:47.292578Z"
    }
   },
   "outputs": [
    {
     "data": {
      "text/plain": [
       "array([0.63380533, 0.2723782 , 0.05496682])"
      ]
     },
     "execution_count": 249,
     "metadata": {},
     "output_type": "execute_result"
    }
   ],
   "source": [
    "pca.explained_variance_ratio_"
   ]
  },
  {
   "cell_type": "markdown",
   "id": "9fe817ef-40d7-4b01-b706-a3485737e877",
   "metadata": {},
   "source": [
    "###\n",
    "---\n",
    "###"
   ]
  },
  {
   "cell_type": "markdown",
   "id": "f6f84ae8-e149-4ae0-a73b-105bab6a3ac6",
   "metadata": {},
   "source": [
    "# Combining 2 PCs of Meaningless_columns to the df"
   ]
  },
  {
   "cell_type": "code",
   "execution_count": 250,
   "id": "cf76f88b-fcee-48df-86cf-97c4b2464069",
   "metadata": {
    "execution": {
     "iopub.execute_input": "2024-12-14T09:30:47.298580Z",
     "iopub.status.busy": "2024-12-14T09:30:47.298580Z",
     "iopub.status.idle": "2024-12-14T09:30:47.549441Z",
     "shell.execute_reply": "2024-12-14T09:30:47.549441Z",
     "shell.execute_reply.started": "2024-12-14T09:30:47.298580Z"
    }
   },
   "outputs": [],
   "source": [
    "df = pd.concat([df, pca_df.iloc[:, :2]], axis=1)"
   ]
  },
  {
   "cell_type": "code",
   "execution_count": 251,
   "id": "eaf30636-57db-4d55-9e3e-09377a397665",
   "metadata": {
    "execution": {
     "iopub.execute_input": "2024-12-14T09:30:47.549441Z",
     "iopub.status.busy": "2024-12-14T09:30:47.549441Z",
     "iopub.status.idle": "2024-12-14T09:30:47.566201Z",
     "shell.execute_reply": "2024-12-14T09:30:47.565418Z",
     "shell.execute_reply.started": "2024-12-14T09:30:47.549441Z"
    }
   },
   "outputs": [
    {
     "data": {
      "text/html": [
       "<div>\n",
       "<style scoped>\n",
       "    .dataframe tbody tr th:only-of-type {\n",
       "        vertical-align: middle;\n",
       "    }\n",
       "\n",
       "    .dataframe tbody tr th {\n",
       "        vertical-align: top;\n",
       "    }\n",
       "\n",
       "    .dataframe thead th {\n",
       "        text-align: right;\n",
       "    }\n",
       "</style>\n",
       "<table border=\"1\" class=\"dataframe\">\n",
       "  <thead>\n",
       "    <tr style=\"text-align: right;\">\n",
       "      <th></th>\n",
       "      <th>Annual Income</th>\n",
       "      <th>Credit Score</th>\n",
       "      <th>Premium Amount</th>\n",
       "      <th>Previous Claims</th>\n",
       "      <th>Policy Start Date - Year</th>\n",
       "      <th>Policy Start Date - Quarter</th>\n",
       "      <th>Health Score</th>\n",
       "      <th>Policy Start Date - Month</th>\n",
       "      <th>Customer Feedback</th>\n",
       "      <th>Occupation</th>\n",
       "      <th>Age</th>\n",
       "      <th>Number of Dependents</th>\n",
       "      <th>Marital Status</th>\n",
       "      <th>PC1_Meaningless_df</th>\n",
       "      <th>PC2_Meaningless_df</th>\n",
       "    </tr>\n",
       "  </thead>\n",
       "  <tbody>\n",
       "    <tr>\n",
       "      <th>0</th>\n",
       "      <td>10049.0</td>\n",
       "      <td>372.0</td>\n",
       "      <td>2869.0</td>\n",
       "      <td>2.0</td>\n",
       "      <td>2023</td>\n",
       "      <td>2023 Q4</td>\n",
       "      <td>22.598761</td>\n",
       "      <td>12</td>\n",
       "      <td>Poor</td>\n",
       "      <td>Self-Employed</td>\n",
       "      <td>19.0</td>\n",
       "      <td>1.0</td>\n",
       "      <td>Married</td>\n",
       "      <td>7.296560</td>\n",
       "      <td>7.422362</td>\n",
       "    </tr>\n",
       "    <tr>\n",
       "      <th>1</th>\n",
       "      <td>31678.0</td>\n",
       "      <td>694.0</td>\n",
       "      <td>1483.0</td>\n",
       "      <td>1.0</td>\n",
       "      <td>2023</td>\n",
       "      <td>2023 Q2</td>\n",
       "      <td>15.569731</td>\n",
       "      <td>6</td>\n",
       "      <td>Average</td>\n",
       "      <td>Self-Employed</td>\n",
       "      <td>39.0</td>\n",
       "      <td>3.0</td>\n",
       "      <td>Divorced</td>\n",
       "      <td>-3.707459</td>\n",
       "      <td>2.428130</td>\n",
       "    </tr>\n",
       "    <tr>\n",
       "      <th>2</th>\n",
       "      <td>25602.0</td>\n",
       "      <td>555.0</td>\n",
       "      <td>567.0</td>\n",
       "      <td>1.0</td>\n",
       "      <td>2023</td>\n",
       "      <td>2023 Q3</td>\n",
       "      <td>47.177549</td>\n",
       "      <td>9</td>\n",
       "      <td>Good</td>\n",
       "      <td>Self-Employed</td>\n",
       "      <td>23.0</td>\n",
       "      <td>3.0</td>\n",
       "      <td>Divorced</td>\n",
       "      <td>14.294341</td>\n",
       "      <td>4.412807</td>\n",
       "    </tr>\n",
       "    <tr>\n",
       "      <th>3</th>\n",
       "      <td>141855.0</td>\n",
       "      <td>367.0</td>\n",
       "      <td>765.0</td>\n",
       "      <td>1.0</td>\n",
       "      <td>2024</td>\n",
       "      <td>2024 Q2</td>\n",
       "      <td>10.938144</td>\n",
       "      <td>6</td>\n",
       "      <td>Poor</td>\n",
       "      <td>Self-Employed</td>\n",
       "      <td>21.0</td>\n",
       "      <td>2.0</td>\n",
       "      <td>Married</td>\n",
       "      <td>-3.718270</td>\n",
       "      <td>-9.573107</td>\n",
       "    </tr>\n",
       "    <tr>\n",
       "      <th>4</th>\n",
       "      <td>39651.0</td>\n",
       "      <td>598.0</td>\n",
       "      <td>2022.0</td>\n",
       "      <td>0.0</td>\n",
       "      <td>2021</td>\n",
       "      <td>2021 Q4</td>\n",
       "      <td>20.376094</td>\n",
       "      <td>12</td>\n",
       "      <td>Poor</td>\n",
       "      <td>Self-Employed</td>\n",
       "      <td>21.0</td>\n",
       "      <td>1.0</td>\n",
       "      <td>Single</td>\n",
       "      <td>-14.711684</td>\n",
       "      <td>-1.558834</td>\n",
       "    </tr>\n",
       "  </tbody>\n",
       "</table>\n",
       "</div>"
      ],
      "text/plain": [
       "   Annual Income  Credit Score  Premium Amount  Previous Claims  \\\n",
       "0        10049.0         372.0          2869.0              2.0   \n",
       "1        31678.0         694.0          1483.0              1.0   \n",
       "2        25602.0         555.0           567.0              1.0   \n",
       "3       141855.0         367.0           765.0              1.0   \n",
       "4        39651.0         598.0          2022.0              0.0   \n",
       "\n",
       "  Policy Start Date - Year Policy Start Date - Quarter  Health Score  \\\n",
       "0                     2023                     2023 Q4     22.598761   \n",
       "1                     2023                     2023 Q2     15.569731   \n",
       "2                     2023                     2023 Q3     47.177549   \n",
       "3                     2024                     2024 Q2     10.938144   \n",
       "4                     2021                     2021 Q4     20.376094   \n",
       "\n",
       "  Policy Start Date - Month Customer Feedback     Occupation   Age  \\\n",
       "0                        12              Poor  Self-Employed  19.0   \n",
       "1                         6           Average  Self-Employed  39.0   \n",
       "2                         9              Good  Self-Employed  23.0   \n",
       "3                         6              Poor  Self-Employed  21.0   \n",
       "4                        12              Poor  Self-Employed  21.0   \n",
       "\n",
       "   Number of Dependents Marital Status  PC1_Meaningless_df  PC2_Meaningless_df  \n",
       "0                   1.0        Married            7.296560            7.422362  \n",
       "1                   3.0       Divorced           -3.707459            2.428130  \n",
       "2                   3.0       Divorced           14.294341            4.412807  \n",
       "3                   2.0        Married           -3.718270           -9.573107  \n",
       "4                   1.0         Single          -14.711684           -1.558834  "
      ]
     },
     "execution_count": 251,
     "metadata": {},
     "output_type": "execute_result"
    }
   ],
   "source": [
    "df.head()"
   ]
  },
  {
   "cell_type": "markdown",
   "id": "d86e4f7b-0624-46b0-b61f-31ba558ff7d1",
   "metadata": {},
   "source": [
    "###\n",
    "---\n",
    "###"
   ]
  },
  {
   "cell_type": "markdown",
   "id": "b0b5f68b-8afa-46ab-b04b-2d11453379a8",
   "metadata": {},
   "source": [
    "# Encoding of column in `df`"
   ]
  },
  {
   "cell_type": "code",
   "execution_count": 252,
   "id": "689f7ab4-c836-4d33-a30a-c6353e1e6f07",
   "metadata": {
    "execution": {
     "iopub.execute_input": "2024-12-14T09:30:47.567210Z",
     "iopub.status.busy": "2024-12-14T09:30:47.567210Z",
     "iopub.status.idle": "2024-12-14T09:30:50.468007Z",
     "shell.execute_reply": "2024-12-14T09:30:50.468007Z",
     "shell.execute_reply.started": "2024-12-14T09:30:47.567210Z"
    }
   },
   "outputs": [
    {
     "data": {
      "text/html": [
       "<div>\n",
       "<style scoped>\n",
       "    .dataframe tbody tr th:only-of-type {\n",
       "        vertical-align: middle;\n",
       "    }\n",
       "\n",
       "    .dataframe tbody tr th {\n",
       "        vertical-align: top;\n",
       "    }\n",
       "\n",
       "    .dataframe thead th {\n",
       "        text-align: right;\n",
       "    }\n",
       "</style>\n",
       "<table border=\"1\" class=\"dataframe\">\n",
       "  <thead>\n",
       "    <tr style=\"text-align: right;\">\n",
       "      <th></th>\n",
       "      <th>Column</th>\n",
       "      <th>Data Type</th>\n",
       "      <th>Nulls</th>\n",
       "      <th>No. of Uniques</th>\n",
       "      <th>Uniques</th>\n",
       "    </tr>\n",
       "  </thead>\n",
       "  <tbody>\n",
       "    <tr>\n",
       "      <th>2</th>\n",
       "      <td>Premium Amount</td>\n",
       "      <td>float64</td>\n",
       "      <td>800000</td>\n",
       "      <td>4794</td>\n",
       "      <td>[2869.0, 1483.0, 567.0, 765.0, 2022.0, 3202.0,...</td>\n",
       "    </tr>\n",
       "    <tr>\n",
       "      <th>0</th>\n",
       "      <td>Annual Income</td>\n",
       "      <td>float64</td>\n",
       "      <td>0</td>\n",
       "      <td>97952</td>\n",
       "      <td>[10049.0, 31678.0, 25602.0, 141855.0, 39651.0,...</td>\n",
       "    </tr>\n",
       "    <tr>\n",
       "      <th>1</th>\n",
       "      <td>Credit Score</td>\n",
       "      <td>float64</td>\n",
       "      <td>0</td>\n",
       "      <td>550</td>\n",
       "      <td>[372.0, 694.0, 555.0, 367.0, 598.0, 614.0, 807...</td>\n",
       "    </tr>\n",
       "    <tr>\n",
       "      <th>3</th>\n",
       "      <td>Previous Claims</td>\n",
       "      <td>float64</td>\n",
       "      <td>0</td>\n",
       "      <td>10</td>\n",
       "      <td>[2.0, 1.0, 0.0, 3.0, 4.0, 5.0, 6.0, 7.0, 8.0, ...</td>\n",
       "    </tr>\n",
       "    <tr>\n",
       "      <th>4</th>\n",
       "      <td>Policy Start Date - Year</td>\n",
       "      <td>object</td>\n",
       "      <td>0</td>\n",
       "      <td>6</td>\n",
       "      <td>[2023, 2024, 2021, 2022, 2020, 2019]</td>\n",
       "    </tr>\n",
       "    <tr>\n",
       "      <th>5</th>\n",
       "      <td>Policy Start Date - Quarter</td>\n",
       "      <td>object</td>\n",
       "      <td>0</td>\n",
       "      <td>21</td>\n",
       "      <td>[2023 Q4, 2023 Q2, 2023 Q3, 2024 Q2, 2021 Q4, ...</td>\n",
       "    </tr>\n",
       "    <tr>\n",
       "      <th>6</th>\n",
       "      <td>Health Score</td>\n",
       "      <td>float64</td>\n",
       "      <td>0</td>\n",
       "      <td>934000</td>\n",
       "      <td>[22.59876067181393, 15.569730989408043, 47.177...</td>\n",
       "    </tr>\n",
       "    <tr>\n",
       "      <th>7</th>\n",
       "      <td>Policy Start Date - Month</td>\n",
       "      <td>object</td>\n",
       "      <td>0</td>\n",
       "      <td>12</td>\n",
       "      <td>[12, 6, 9, 5, 2, 8, 3, 10, 1, 4, 7, 11]</td>\n",
       "    </tr>\n",
       "    <tr>\n",
       "      <th>8</th>\n",
       "      <td>Customer Feedback</td>\n",
       "      <td>object</td>\n",
       "      <td>0</td>\n",
       "      <td>3</td>\n",
       "      <td>[Poor, Average, Good]</td>\n",
       "    </tr>\n",
       "    <tr>\n",
       "      <th>9</th>\n",
       "      <td>Occupation</td>\n",
       "      <td>object</td>\n",
       "      <td>0</td>\n",
       "      <td>3</td>\n",
       "      <td>[Self-Employed, Employed, Unemployed]</td>\n",
       "    </tr>\n",
       "    <tr>\n",
       "      <th>10</th>\n",
       "      <td>Age</td>\n",
       "      <td>float64</td>\n",
       "      <td>0</td>\n",
       "      <td>47</td>\n",
       "      <td>[19.0, 39.0, 23.0, 21.0, 29.0, 41.0, 48.0, 44....</td>\n",
       "    </tr>\n",
       "    <tr>\n",
       "      <th>11</th>\n",
       "      <td>Number of Dependents</td>\n",
       "      <td>float64</td>\n",
       "      <td>0</td>\n",
       "      <td>5</td>\n",
       "      <td>[1.0, 3.0, 2.0, 0.0, 4.0]</td>\n",
       "    </tr>\n",
       "    <tr>\n",
       "      <th>12</th>\n",
       "      <td>Marital Status</td>\n",
       "      <td>object</td>\n",
       "      <td>0</td>\n",
       "      <td>3</td>\n",
       "      <td>[Married, Divorced, Single]</td>\n",
       "    </tr>\n",
       "    <tr>\n",
       "      <th>13</th>\n",
       "      <td>PC1_Meaningless_df</td>\n",
       "      <td>float64</td>\n",
       "      <td>0</td>\n",
       "      <td>1804500</td>\n",
       "      <td>[7.296560275095079, -3.7074592589820714, 14.29...</td>\n",
       "    </tr>\n",
       "    <tr>\n",
       "      <th>14</th>\n",
       "      <td>PC2_Meaningless_df</td>\n",
       "      <td>float64</td>\n",
       "      <td>0</td>\n",
       "      <td>1804500</td>\n",
       "      <td>[7.422362012808977, 2.4281296857110526, 4.4128...</td>\n",
       "    </tr>\n",
       "  </tbody>\n",
       "</table>\n",
       "</div>"
      ],
      "text/plain": [
       "                         Column Data Type   Nulls  No. of Uniques  \\\n",
       "2                Premium Amount   float64  800000            4794   \n",
       "0                 Annual Income   float64       0           97952   \n",
       "1                  Credit Score   float64       0             550   \n",
       "3               Previous Claims   float64       0              10   \n",
       "4      Policy Start Date - Year    object       0               6   \n",
       "5   Policy Start Date - Quarter    object       0              21   \n",
       "6                  Health Score   float64       0          934000   \n",
       "7     Policy Start Date - Month    object       0              12   \n",
       "8             Customer Feedback    object       0               3   \n",
       "9                    Occupation    object       0               3   \n",
       "10                          Age   float64       0              47   \n",
       "11         Number of Dependents   float64       0               5   \n",
       "12               Marital Status    object       0               3   \n",
       "13           PC1_Meaningless_df   float64       0         1804500   \n",
       "14           PC2_Meaningless_df   float64       0         1804500   \n",
       "\n",
       "                                              Uniques  \n",
       "2   [2869.0, 1483.0, 567.0, 765.0, 2022.0, 3202.0,...  \n",
       "0   [10049.0, 31678.0, 25602.0, 141855.0, 39651.0,...  \n",
       "1   [372.0, 694.0, 555.0, 367.0, 598.0, 614.0, 807...  \n",
       "3   [2.0, 1.0, 0.0, 3.0, 4.0, 5.0, 6.0, 7.0, 8.0, ...  \n",
       "4                [2023, 2024, 2021, 2022, 2020, 2019]  \n",
       "5   [2023 Q4, 2023 Q2, 2023 Q3, 2024 Q2, 2021 Q4, ...  \n",
       "6   [22.59876067181393, 15.569730989408043, 47.177...  \n",
       "7             [12, 6, 9, 5, 2, 8, 3, 10, 1, 4, 7, 11]  \n",
       "8                               [Poor, Average, Good]  \n",
       "9               [Self-Employed, Employed, Unemployed]  \n",
       "10  [19.0, 39.0, 23.0, 21.0, 29.0, 41.0, 48.0, 44....  \n",
       "11                          [1.0, 3.0, 2.0, 0.0, 4.0]  \n",
       "12                        [Married, Divorced, Single]  \n",
       "13  [7.296560275095079, -3.7074592589820714, 14.29...  \n",
       "14  [7.422362012808977, 2.4281296857110526, 4.4128...  "
      ]
     },
     "execution_count": 252,
     "metadata": {},
     "output_type": "execute_result"
    }
   ],
   "source": [
    "show_nulls(df)"
   ]
  },
  {
   "cell_type": "markdown",
   "id": "4c3df1ad-537f-466f-b39e-50fdb07e61a6",
   "metadata": {},
   "source": [
    "### Policy Start Date - Year\t"
   ]
  },
  {
   "cell_type": "code",
   "execution_count": 253,
   "id": "0c9c9329-6f32-4ba1-a7d8-4c97c1b1af07",
   "metadata": {
    "execution": {
     "iopub.execute_input": "2024-12-14T09:30:50.469175Z",
     "iopub.status.busy": "2024-12-14T09:30:50.469175Z",
     "iopub.status.idle": "2024-12-14T09:30:50.532251Z",
     "shell.execute_reply": "2024-12-14T09:30:50.531609Z",
     "shell.execute_reply.started": "2024-12-14T09:30:50.469175Z"
    }
   },
   "outputs": [
    {
     "data": {
      "text/plain": [
       "array([2023, 2024, 2021, 2022, 2020, 2019], dtype=object)"
      ]
     },
     "execution_count": 253,
     "metadata": {},
     "output_type": "execute_result"
    }
   ],
   "source": [
    "df[\"Policy Start Date - Year\"].unique()"
   ]
  },
  {
   "cell_type": "code",
   "execution_count": 254,
   "id": "40d1f51c-a30a-4f5a-b19e-c730119854e0",
   "metadata": {
    "execution": {
     "iopub.execute_input": "2024-12-14T09:30:50.533258Z",
     "iopub.status.busy": "2024-12-14T09:30:50.533258Z",
     "iopub.status.idle": "2024-12-14T09:30:51.342985Z",
     "shell.execute_reply": "2024-12-14T09:30:51.342985Z",
     "shell.execute_reply.started": "2024-12-14T09:30:50.533258Z"
    }
   },
   "outputs": [],
   "source": [
    "a = OrdinalEncoder(categories=[[2019, 2020, 2021, 2022, 2023, 2024]])\n",
    "\n",
    "b = pd.DataFrame({\"ENCODED_Policy Start Date - Year\" : a.fit_transform(df[[\"Policy Start Date - Year\"]]).flatten()})\n",
    "\n",
    "df = pd.concat([df, b], axis=1)\n",
    "df.drop(columns=\"Policy Start Date - Year\", inplace=True)"
   ]
  },
  {
   "cell_type": "markdown",
   "id": "09ee4ab9-2e8f-4cb6-9089-d730ae896a60",
   "metadata": {},
   "source": [
    "### Policy Start Date - Quarter"
   ]
  },
  {
   "cell_type": "code",
   "execution_count": 255,
   "id": "789c7e6a-eee3-4c43-b60d-017eb2b89410",
   "metadata": {
    "execution": {
     "iopub.execute_input": "2024-12-14T09:30:51.344603Z",
     "iopub.status.busy": "2024-12-14T09:30:51.344603Z",
     "iopub.status.idle": "2024-12-14T09:30:51.445671Z",
     "shell.execute_reply": "2024-12-14T09:30:51.444702Z",
     "shell.execute_reply.started": "2024-12-14T09:30:51.344603Z"
    }
   },
   "outputs": [
    {
     "data": {
      "text/plain": [
       "['2019 Q3',\n",
       " '2019 Q4',\n",
       " '2020 Q1',\n",
       " '2020 Q2',\n",
       " '2020 Q3',\n",
       " '2020 Q4',\n",
       " '2021 Q1',\n",
       " '2021 Q2',\n",
       " '2021 Q3',\n",
       " '2021 Q4',\n",
       " '2022 Q1',\n",
       " '2022 Q2',\n",
       " '2022 Q3',\n",
       " '2022 Q4',\n",
       " '2023 Q1',\n",
       " '2023 Q2',\n",
       " '2023 Q3',\n",
       " '2023 Q4',\n",
       " '2024 Q1',\n",
       " '2024 Q2',\n",
       " '2024 Q3']"
      ]
     },
     "execution_count": 255,
     "metadata": {},
     "output_type": "execute_result"
    }
   ],
   "source": [
    "sorted(list(df[\"Policy Start Date - Quarter\"].unique()))"
   ]
  },
  {
   "cell_type": "code",
   "execution_count": 256,
   "id": "2a517b04-7446-46b6-ae6d-b21d48bd6b8d",
   "metadata": {
    "execution": {
     "iopub.execute_input": "2024-12-14T09:30:51.446679Z",
     "iopub.status.busy": "2024-12-14T09:30:51.445671Z",
     "iopub.status.idle": "2024-12-14T09:30:52.322746Z",
     "shell.execute_reply": "2024-12-14T09:30:52.321740Z",
     "shell.execute_reply.started": "2024-12-14T09:30:51.446679Z"
    }
   },
   "outputs": [],
   "source": [
    "a = OrdinalEncoder(categories=[['2019 Q3', '2019 Q4', '2020 Q1', '2020 Q2', '2020 Q3', '2020 Q4', '2021 Q1', '2021 Q2', '2021 Q3',\n",
    "                 '2021 Q4', '2022 Q1', '2022 Q2', '2022 Q3', '2022 Q4', '2023 Q1', '2023 Q2', '2023 Q3', '2023 Q4', '2024 Q1', '2024 Q2', '2024 Q3']])\n",
    "\n",
    "b = pd.DataFrame({\"ENCODED_Policy Start Date - Quarter\" : a.fit_transform(df[[\"Policy Start Date - Quarter\"]]).flatten()})\n",
    "\n",
    "df = pd.concat([df, b], axis=1)\n",
    "df.drop(columns=\"Policy Start Date - Quarter\", inplace=True)"
   ]
  },
  {
   "cell_type": "markdown",
   "id": "7e0289f2-706a-4339-a09d-1be73751256d",
   "metadata": {},
   "source": [
    "### Policy Start Date - Month"
   ]
  },
  {
   "cell_type": "code",
   "execution_count": 257,
   "id": "0f5b60de-a538-4fec-a44b-40c47c07c751",
   "metadata": {
    "execution": {
     "iopub.execute_input": "2024-12-14T09:30:52.323720Z",
     "iopub.status.busy": "2024-12-14T09:30:52.322746Z",
     "iopub.status.idle": "2024-12-14T09:30:52.382870Z",
     "shell.execute_reply": "2024-12-14T09:30:52.382870Z",
     "shell.execute_reply.started": "2024-12-14T09:30:52.323720Z"
    }
   },
   "outputs": [],
   "source": [
    "df[\"Policy Start Date - Month\"] = df[\"Policy Start Date - Month\"].astype(int)"
   ]
  },
  {
   "cell_type": "markdown",
   "id": "9a661b42-b186-45b8-8d99-1aa4ac5e6d25",
   "metadata": {},
   "source": [
    "### Customer Feedback"
   ]
  },
  {
   "cell_type": "code",
   "execution_count": 258,
   "id": "8b865e7c-7ca1-46de-8804-7824394fb39c",
   "metadata": {
    "execution": {
     "iopub.execute_input": "2024-12-14T09:30:52.382870Z",
     "iopub.status.busy": "2024-12-14T09:30:52.382870Z",
     "iopub.status.idle": "2024-12-14T09:30:52.491972Z",
     "shell.execute_reply": "2024-12-14T09:30:52.491466Z",
     "shell.execute_reply.started": "2024-12-14T09:30:52.382870Z"
    }
   },
   "outputs": [
    {
     "data": {
      "text/plain": [
       "array(['Poor', 'Average', 'Good'], dtype=object)"
      ]
     },
     "execution_count": 258,
     "metadata": {},
     "output_type": "execute_result"
    }
   ],
   "source": [
    "df[\"Customer Feedback\"].unique()"
   ]
  },
  {
   "cell_type": "code",
   "execution_count": 259,
   "id": "9175bb8e-e268-4701-ae2b-0a54beeeba68",
   "metadata": {
    "execution": {
     "iopub.execute_input": "2024-12-14T09:30:52.492980Z",
     "iopub.status.busy": "2024-12-14T09:30:52.492980Z",
     "iopub.status.idle": "2024-12-14T09:30:53.276028Z",
     "shell.execute_reply": "2024-12-14T09:30:53.274984Z",
     "shell.execute_reply.started": "2024-12-14T09:30:52.492980Z"
    }
   },
   "outputs": [],
   "source": [
    "a = OrdinalEncoder(categories=[['Poor', 'Average', 'Good']])\n",
    "\n",
    "b = pd.DataFrame({\"ENCODED_Customer Feedback\" : a.fit_transform(df[[\"Customer Feedback\"]]).flatten()})\n",
    "\n",
    "df = pd.concat([df, b], axis=1)\n",
    "df.drop(columns=\"Customer Feedback\", inplace=True)"
   ]
  },
  {
   "cell_type": "markdown",
   "id": "7512a768-696f-4a96-80dc-584161991d39",
   "metadata": {},
   "source": [
    "### Occupation"
   ]
  },
  {
   "cell_type": "code",
   "execution_count": 260,
   "id": "3d85d338-e415-45d0-873b-04f4089ba46e",
   "metadata": {
    "execution": {
     "iopub.execute_input": "2024-12-14T09:30:53.276995Z",
     "iopub.status.busy": "2024-12-14T09:30:53.276995Z",
     "iopub.status.idle": "2024-12-14T09:30:54.141932Z",
     "shell.execute_reply": "2024-12-14T09:30:54.141932Z",
     "shell.execute_reply.started": "2024-12-14T09:30:53.276995Z"
    }
   },
   "outputs": [],
   "source": [
    "a = OneHotEncoder(drop=\"first\", sparse_output=False)\n",
    "\n",
    "b = pd.DataFrame(\n",
    "        a.fit_transform(df[[\"Occupation\"]]),\n",
    "        columns=\"ENCODED_\" + a.get_feature_names_out()\n",
    "    )\n",
    "\n",
    "df = pd.concat([df, b], axis=1)\n",
    "df.drop(columns=\"Occupation\", inplace=True)"
   ]
  },
  {
   "cell_type": "markdown",
   "id": "610baf65-2ac5-4f1c-adc5-96b01a6d73bc",
   "metadata": {},
   "source": [
    "### Marital Status"
   ]
  },
  {
   "cell_type": "code",
   "execution_count": 263,
   "id": "b1594e1d-c9f6-43b3-aebb-b8cfaf24ee24",
   "metadata": {
    "execution": {
     "iopub.execute_input": "2024-12-14T09:31:36.597736Z",
     "iopub.status.busy": "2024-12-14T09:31:36.597736Z",
     "iopub.status.idle": "2024-12-14T09:31:37.489576Z",
     "shell.execute_reply": "2024-12-14T09:31:37.489576Z",
     "shell.execute_reply.started": "2024-12-14T09:31:36.597736Z"
    }
   },
   "outputs": [],
   "source": [
    "a = OneHotEncoder(drop=\"first\", sparse_output=False)\n",
    "\n",
    "b = pd.DataFrame(\n",
    "        a.fit_transform(df[[\"Marital Status\"]]),\n",
    "        columns=\"ENCODED_\" + a.get_feature_names_out()\n",
    "    )\n",
    "\n",
    "df = pd.concat([df, b], axis=1)\n",
    "df.drop(columns=\"Marital Status\", inplace=True)"
   ]
  },
  {
   "cell_type": "code",
   "execution_count": 265,
   "id": "0558f0db-20c6-4d86-9e3a-abd211200e75",
   "metadata": {
    "execution": {
     "iopub.execute_input": "2024-12-14T09:31:44.420470Z",
     "iopub.status.busy": "2024-12-14T09:31:44.420470Z",
     "iopub.status.idle": "2024-12-14T09:31:44.429525Z",
     "shell.execute_reply": "2024-12-14T09:31:44.428507Z",
     "shell.execute_reply.started": "2024-12-14T09:31:44.420470Z"
    }
   },
   "outputs": [
    {
     "data": {
      "text/plain": [
       "Annual Income                          float64\n",
       "Credit Score                           float64\n",
       "Premium Amount                         float64\n",
       "Previous Claims                        float64\n",
       "Health Score                           float64\n",
       "Policy Start Date - Month                int64\n",
       "Age                                    float64\n",
       "Number of Dependents                   float64\n",
       "PC1_Meaningless_df                     float64\n",
       "PC2_Meaningless_df                     float64\n",
       "ENCODED_Policy Start Date - Year       float64\n",
       "ENCODED_Policy Start Date - Quarter    float64\n",
       "ENCODED_Customer Feedback              float64\n",
       "ENCODED_Occupation_Self-Employed       float64\n",
       "ENCODED_Occupation_Unemployed          float64\n",
       "ENCODED_Marital Status_Married         float64\n",
       "ENCODED_Marital Status_Single          float64\n",
       "dtype: object"
      ]
     },
     "execution_count": 265,
     "metadata": {},
     "output_type": "execute_result"
    }
   ],
   "source": [
    "df.dtypes"
   ]
  },
  {
   "cell_type": "markdown",
   "id": "74116ee4-4ad2-4a53-b27a-864dd80eb9e2",
   "metadata": {},
   "source": [
    "#\n",
    "---\n",
    "#"
   ]
  },
  {
   "cell_type": "markdown",
   "id": "01c9710b-b25d-4337-b128-7dc53a8cfefa",
   "metadata": {},
   "source": [
    "# Spliting Data"
   ]
  },
  {
   "cell_type": "code",
   "execution_count": 351,
   "id": "87b84568-bde7-4f2f-a242-e07c0197ddfa",
   "metadata": {
    "execution": {
     "iopub.execute_input": "2024-12-14T12:19:11.503127Z",
     "iopub.status.busy": "2024-12-14T12:19:11.502123Z",
     "iopub.status.idle": "2024-12-14T12:19:11.510621Z",
     "shell.execute_reply": "2024-12-14T12:19:11.509573Z",
     "shell.execute_reply.started": "2024-12-14T12:19:11.503127Z"
    }
   },
   "outputs": [
    {
     "data": {
      "text/plain": [
       "((1200000, 17), (800000, 17))"
      ]
     },
     "execution_count": 351,
     "metadata": {},
     "output_type": "execute_result"
    }
   ],
   "source": [
    "train = df.iloc[:1200000, :]\n",
    "test = df.iloc[1200000:, :]\n",
    "\n",
    "train.shape, test.shape"
   ]
  },
  {
   "cell_type": "code",
   "execution_count": 352,
   "id": "df8e9ffc-cab2-4ac7-9cd6-4a557cc2c727",
   "metadata": {
    "execution": {
     "iopub.execute_input": "2024-12-14T12:19:12.236053Z",
     "iopub.status.busy": "2024-12-14T12:19:12.235056Z",
     "iopub.status.idle": "2024-12-14T12:19:12.303078Z",
     "shell.execute_reply": "2024-12-14T12:19:12.302414Z",
     "shell.execute_reply.started": "2024-12-14T12:19:12.236053Z"
    }
   },
   "outputs": [],
   "source": [
    "X = train.drop(columns=\"Premium Amount\")\n",
    "Y = train[\"Premium Amount\"]"
   ]
  },
  {
   "cell_type": "code",
   "execution_count": 353,
   "id": "f20e9054-efca-4a3d-a628-57d2cb83c86f",
   "metadata": {
    "execution": {
     "iopub.execute_input": "2024-12-14T12:19:13.044770Z",
     "iopub.status.busy": "2024-12-14T12:19:13.043770Z",
     "iopub.status.idle": "2024-12-14T12:19:13.050066Z",
     "shell.execute_reply": "2024-12-14T12:19:13.049011Z",
     "shell.execute_reply.started": "2024-12-14T12:19:13.044770Z"
    }
   },
   "outputs": [],
   "source": [
    "from sklearn.model_selection import train_test_split"
   ]
  },
  {
   "cell_type": "code",
   "execution_count": 354,
   "id": "56d89133-c83e-452b-9e84-58a14fd39449",
   "metadata": {
    "execution": {
     "iopub.execute_input": "2024-12-14T12:19:13.683977Z",
     "iopub.status.busy": "2024-12-14T12:19:13.682817Z",
     "iopub.status.idle": "2024-12-14T12:19:14.084236Z",
     "shell.execute_reply": "2024-12-14T12:19:14.082944Z",
     "shell.execute_reply.started": "2024-12-14T12:19:13.683977Z"
    }
   },
   "outputs": [],
   "source": [
    "x_train, x_validate, y_train, y_validate = train_test_split(X, Y, test_size=10000)"
   ]
  },
  {
   "cell_type": "code",
   "execution_count": 355,
   "id": "136032fb-8b8b-4263-9aa2-0eccea1898e5",
   "metadata": {
    "execution": {
     "iopub.execute_input": "2024-12-14T12:19:14.828640Z",
     "iopub.status.busy": "2024-12-14T12:19:14.828640Z",
     "iopub.status.idle": "2024-12-14T12:19:14.836528Z",
     "shell.execute_reply": "2024-12-14T12:19:14.835516Z",
     "shell.execute_reply.started": "2024-12-14T12:19:14.828640Z"
    }
   },
   "outputs": [
    {
     "data": {
      "text/plain": [
       "(10000, 16)"
      ]
     },
     "execution_count": 355,
     "metadata": {},
     "output_type": "execute_result"
    }
   ],
   "source": [
    "x_validate.shape"
   ]
  },
  {
   "cell_type": "code",
   "execution_count": 356,
   "id": "6f821d7a-d8af-49ca-bb2a-e53c17ae87eb",
   "metadata": {
    "execution": {
     "iopub.execute_input": "2024-12-14T12:19:15.710552Z",
     "iopub.status.busy": "2024-12-14T12:19:15.709555Z",
     "iopub.status.idle": "2024-12-14T12:19:15.773215Z",
     "shell.execute_reply": "2024-12-14T12:19:15.773215Z",
     "shell.execute_reply.started": "2024-12-14T12:19:15.710552Z"
    }
   },
   "outputs": [],
   "source": [
    "test.drop(columns=\"Premium Amount\", inplace=True)"
   ]
  },
  {
   "cell_type": "code",
   "execution_count": 357,
   "id": "451a6580-a03d-482f-aad1-94d411d55092",
   "metadata": {
    "execution": {
     "iopub.execute_input": "2024-12-14T12:19:23.222215Z",
     "iopub.status.busy": "2024-12-14T12:19:23.222215Z",
     "iopub.status.idle": "2024-12-14T12:19:23.228857Z",
     "shell.execute_reply": "2024-12-14T12:19:23.227842Z",
     "shell.execute_reply.started": "2024-12-14T12:19:23.222215Z"
    }
   },
   "outputs": [
    {
     "data": {
      "text/plain": [
       "(800000, 16)"
      ]
     },
     "execution_count": 357,
     "metadata": {},
     "output_type": "execute_result"
    }
   ],
   "source": [
    "test.shape"
   ]
  },
  {
   "cell_type": "markdown",
   "id": "ada3a2e0-611e-4bc2-8be0-e989a5ef8a54",
   "metadata": {
    "execution": {
     "iopub.execute_input": "2024-12-14T09:33:12.138641Z",
     "iopub.status.busy": "2024-12-14T09:33:12.137621Z",
     "iopub.status.idle": "2024-12-14T09:33:12.147634Z",
     "shell.execute_reply": "2024-12-14T09:33:12.146542Z",
     "shell.execute_reply.started": "2024-12-14T09:33:12.138641Z"
    }
   },
   "source": [
    "##\n",
    "---\n",
    "##"
   ]
  },
  {
   "cell_type": "markdown",
   "id": "062aee81-efa1-43d2-ab49-bc7d8be1f355",
   "metadata": {},
   "source": [
    "# Scaling on `df` "
   ]
  },
  {
   "cell_type": "code",
   "execution_count": 270,
   "id": "88c78daf-a737-4eda-bd5d-f4b5a20926ec",
   "metadata": {
    "execution": {
     "iopub.execute_input": "2024-12-14T09:40:08.868989Z",
     "iopub.status.busy": "2024-12-14T09:40:08.867989Z",
     "iopub.status.idle": "2024-12-14T09:47:35.108765Z",
     "shell.execute_reply": "2024-12-14T09:47:35.108765Z",
     "shell.execute_reply.started": "2024-12-14T09:40:08.868989Z"
    }
   },
   "outputs": [
    {
     "data": {
      "image/png": "[encoded data removed]",
      "text/plain": [
       "<Figure size 2000x2000 with 20 Axes>"
      ]
     },
     "metadata": {},
     "output_type": "display_data"
    }
   ],
   "source": [
    "fig, axs = plt.subplots(3, 6, figsize=(20, 9))\n",
    "\n",
    "for i, ax in zip(x_train.columns, axs.flatten()):\n",
    "    sns.kdeplot(x_train[i], ax=ax, color=\"darkgray\", fill=True)\n",
    "\n",
    "plt.tight_layout()\n",
    "plt.show()"
   ]
  },
  {
   "cell_type": "code",
   "execution_count": 358,
   "id": "8f284751-1243-437a-93c2-5431307fb3ca",
   "metadata": {
    "execution": {
     "iopub.execute_input": "2024-12-14T12:19:32.554139Z",
     "iopub.status.busy": "2024-12-14T12:19:32.553140Z",
     "iopub.status.idle": "2024-12-14T12:19:32.559635Z",
     "shell.execute_reply": "2024-12-14T12:19:32.558625Z",
     "shell.execute_reply.started": "2024-12-14T12:19:32.554139Z"
    }
   },
   "outputs": [],
   "source": [
    "from sklearn.preprocessing import RobustScaler, MinMaxScaler, StandardScaler"
   ]
  },
  {
   "cell_type": "code",
   "execution_count": 359,
   "id": "7308ed3a-fb27-4e6e-9926-3745b04b6d82",
   "metadata": {
    "execution": {
     "iopub.execute_input": "2024-12-14T12:19:33.626614Z",
     "iopub.status.busy": "2024-12-14T12:19:33.625614Z",
     "iopub.status.idle": "2024-12-14T12:19:33.634834Z",
     "shell.execute_reply": "2024-12-14T12:19:33.633826Z",
     "shell.execute_reply.started": "2024-12-14T12:19:33.626614Z"
    }
   },
   "outputs": [],
   "source": [
    "def do_scaling(scaler):\n",
    "    var_cols = list(map(lambda x : x.replace(\" \", \"_\"), x_train.columns))\n",
    "    scalers = {}\n",
    "    cols = x_train.columns\n",
    "    \n",
    "    for i in range(len(cols)):\n",
    "        scalers[f\"SCALER_{var_cols[i]}\"] = scaler\n",
    "        \n",
    "        x_train[f\"SCALER_{var_cols[i]}\"] = scalers[f\"SCALER_{var_cols[i]}\"].fit_transform(x_train[[cols[i]]]).flatten()\n",
    "        x_train.drop(columns=cols[i], inplace=True)\n",
    "\n",
    "        x_validate[f\"SCALER_{var_cols[i]}\"] = scalers[f\"SCALER_{var_cols[i]}\"].transform(x_validate[[cols[i]]]).flatten()\n",
    "        x_validate.drop(columns=cols[i], inplace=True)\n",
    "\n",
    "        test[f\"SCALER_{var_cols[i]}\"] = scalers[f\"SCALER_{var_cols[i]}\"].transform(test[[cols[i]]]).flatten()\n",
    "        test.drop(columns=cols[i], inplace=True)\n",
    "    \n",
    "    return scalers"
   ]
  },
  {
   "cell_type": "code",
   "execution_count": 360,
   "id": "a0f0790c-32b8-4376-8e7a-e656f63d1d40",
   "metadata": {
    "execution": {
     "iopub.execute_input": "2024-12-14T12:19:40.575169Z",
     "iopub.status.busy": "2024-12-14T12:19:40.574036Z",
     "iopub.status.idle": "2024-12-14T12:19:43.588813Z",
     "shell.execute_reply": "2024-12-14T12:19:43.588813Z",
     "shell.execute_reply.started": "2024-12-14T12:19:40.575169Z"
    }
   },
   "outputs": [
    {
     "data": {
      "text/plain": [
       "{'SCALER_Annual_Income': RobustScaler(),\n",
       " 'SCALER_Credit_Score': RobustScaler(),\n",
       " 'SCALER_Previous_Claims': RobustScaler(),\n",
       " 'SCALER_Health_Score': RobustScaler(),\n",
       " 'SCALER_Policy_Start_Date_-_Month': RobustScaler(),\n",
       " 'SCALER_Age': RobustScaler(),\n",
       " 'SCALER_Number_of_Dependents': RobustScaler(),\n",
       " 'SCALER_PC1_Meaningless_df': RobustScaler(),\n",
       " 'SCALER_PC2_Meaningless_df': RobustScaler(),\n",
       " 'SCALER_ENCODED_Policy_Start_Date_-_Year': RobustScaler(),\n",
       " 'SCALER_ENCODED_Policy_Start_Date_-_Quarter': RobustScaler(),\n",
       " 'SCALER_ENCODED_Customer_Feedback': RobustScaler(),\n",
       " 'SCALER_ENCODED_Occupation_Self-Employed': RobustScaler(),\n",
       " 'SCALER_ENCODED_Occupation_Unemployed': RobustScaler(),\n",
       " 'SCALER_ENCODED_Marital_Status_Married': RobustScaler(),\n",
       " 'SCALER_ENCODED_Marital_Status_Single': RobustScaler()}"
      ]
     },
     "execution_count": 360,
     "metadata": {},
     "output_type": "execute_result"
    }
   ],
   "source": [
    "scaler_objects = do_scaling(RobustScaler())\n",
    "scaler_objects"
   ]
  },
  {
   "cell_type": "code",
   "execution_count": 361,
   "id": "991cce4b-830f-483f-a960-d016811372fc",
   "metadata": {
    "execution": {
     "iopub.execute_input": "2024-12-14T12:19:45.675329Z",
     "iopub.status.busy": "2024-12-14T12:19:45.674326Z",
     "iopub.status.idle": "2024-12-14T12:19:45.700965Z",
     "shell.execute_reply": "2024-12-14T12:19:45.699959Z",
     "shell.execute_reply.started": "2024-12-14T12:19:45.675329Z"
    }
   },
   "outputs": [
    {
     "data": {
      "text/html": [
       "<div>\n",
       "<style scoped>\n",
       "    .dataframe tbody tr th:only-of-type {\n",
       "        vertical-align: middle;\n",
       "    }\n",
       "\n",
       "    .dataframe tbody tr th {\n",
       "        vertical-align: top;\n",
       "    }\n",
       "\n",
       "    .dataframe thead th {\n",
       "        text-align: right;\n",
       "    }\n",
       "</style>\n",
       "<table border=\"1\" class=\"dataframe\">\n",
       "  <thead>\n",
       "    <tr style=\"text-align: right;\">\n",
       "      <th></th>\n",
       "      <th>SCALER_Annual_Income</th>\n",
       "      <th>SCALER_Credit_Score</th>\n",
       "      <th>SCALER_Previous_Claims</th>\n",
       "      <th>SCALER_Health_Score</th>\n",
       "      <th>SCALER_Policy_Start_Date_-_Month</th>\n",
       "      <th>SCALER_Age</th>\n",
       "      <th>SCALER_Number_of_Dependents</th>\n",
       "      <th>SCALER_PC1_Meaningless_df</th>\n",
       "      <th>SCALER_PC2_Meaningless_df</th>\n",
       "      <th>SCALER_ENCODED_Policy_Start_Date_-_Year</th>\n",
       "      <th>SCALER_ENCODED_Policy_Start_Date_-_Quarter</th>\n",
       "      <th>SCALER_ENCODED_Customer_Feedback</th>\n",
       "      <th>SCALER_ENCODED_Occupation_Self-Employed</th>\n",
       "      <th>SCALER_ENCODED_Occupation_Unemployed</th>\n",
       "      <th>SCALER_ENCODED_Marital_Status_Married</th>\n",
       "      <th>SCALER_ENCODED_Marital_Status_Single</th>\n",
       "    </tr>\n",
       "  </thead>\n",
       "  <tbody>\n",
       "    <tr>\n",
       "      <th>1197256</th>\n",
       "      <td>2.949326</td>\n",
       "      <td>-0.012931</td>\n",
       "      <td>-1.0</td>\n",
       "      <td>-0.172109</td>\n",
       "      <td>0.0</td>\n",
       "      <td>-0.173913</td>\n",
       "      <td>1.0</td>\n",
       "      <td>-0.998905</td>\n",
       "      <td>0.702654</td>\n",
       "      <td>0.666667</td>\n",
       "      <td>0.9</td>\n",
       "      <td>0.0</td>\n",
       "      <td>0.0</td>\n",
       "      <td>1.0</td>\n",
       "      <td>1.0</td>\n",
       "      <td>0.0</td>\n",
       "    </tr>\n",
       "    <tr>\n",
       "      <th>776249</th>\n",
       "      <td>0.139327</td>\n",
       "      <td>0.422414</td>\n",
       "      <td>0.0</td>\n",
       "      <td>1.578427</td>\n",
       "      <td>-0.6</td>\n",
       "      <td>-0.478261</td>\n",
       "      <td>-1.0</td>\n",
       "      <td>0.000314</td>\n",
       "      <td>-0.098834</td>\n",
       "      <td>0.666667</td>\n",
       "      <td>0.8</td>\n",
       "      <td>0.5</td>\n",
       "      <td>0.0</td>\n",
       "      <td>0.0</td>\n",
       "      <td>0.0</td>\n",
       "      <td>0.0</td>\n",
       "    </tr>\n",
       "    <tr>\n",
       "      <th>17950</th>\n",
       "      <td>0.990772</td>\n",
       "      <td>-0.267241</td>\n",
       "      <td>1.0</td>\n",
       "      <td>1.480338</td>\n",
       "      <td>-0.8</td>\n",
       "      <td>0.434783</td>\n",
       "      <td>-0.5</td>\n",
       "      <td>0.533489</td>\n",
       "      <td>0.000888</td>\n",
       "      <td>0.000000</td>\n",
       "      <td>0.0</td>\n",
       "      <td>-0.5</td>\n",
       "      <td>0.0</td>\n",
       "      <td>0.0</td>\n",
       "      <td>0.0</td>\n",
       "      <td>0.0</td>\n",
       "    </tr>\n",
       "  </tbody>\n",
       "</table>\n",
       "</div>"
      ],
      "text/plain": [
       "         SCALER_Annual_Income  SCALER_Credit_Score  SCALER_Previous_Claims  \\\n",
       "1197256              2.949326            -0.012931                    -1.0   \n",
       "776249               0.139327             0.422414                     0.0   \n",
       "17950                0.990772            -0.267241                     1.0   \n",
       "\n",
       "         SCALER_Health_Score  SCALER_Policy_Start_Date_-_Month  SCALER_Age  \\\n",
       "1197256            -0.172109                               0.0   -0.173913   \n",
       "776249              1.578427                              -0.6   -0.478261   \n",
       "17950               1.480338                              -0.8    0.434783   \n",
       "\n",
       "         SCALER_Number_of_Dependents  SCALER_PC1_Meaningless_df  \\\n",
       "1197256                          1.0                  -0.998905   \n",
       "776249                          -1.0                   0.000314   \n",
       "17950                           -0.5                   0.533489   \n",
       "\n",
       "         SCALER_PC2_Meaningless_df  SCALER_ENCODED_Policy_Start_Date_-_Year  \\\n",
       "1197256                   0.702654                                 0.666667   \n",
       "776249                   -0.098834                                 0.666667   \n",
       "17950                     0.000888                                 0.000000   \n",
       "\n",
       "         SCALER_ENCODED_Policy_Start_Date_-_Quarter  \\\n",
       "1197256                                         0.9   \n",
       "776249                                          0.8   \n",
       "17950                                           0.0   \n",
       "\n",
       "         SCALER_ENCODED_Customer_Feedback  \\\n",
       "1197256                               0.0   \n",
       "776249                                0.5   \n",
       "17950                                -0.5   \n",
       "\n",
       "         SCALER_ENCODED_Occupation_Self-Employed  \\\n",
       "1197256                                      0.0   \n",
       "776249                                       0.0   \n",
       "17950                                        0.0   \n",
       "\n",
       "         SCALER_ENCODED_Occupation_Unemployed  \\\n",
       "1197256                                   1.0   \n",
       "776249                                    0.0   \n",
       "17950                                     0.0   \n",
       "\n",
       "         SCALER_ENCODED_Marital_Status_Married  \\\n",
       "1197256                                    1.0   \n",
       "776249                                     0.0   \n",
       "17950                                      0.0   \n",
       "\n",
       "         SCALER_ENCODED_Marital_Status_Single  \n",
       "1197256                                   0.0  \n",
       "776249                                    0.0  \n",
       "17950                                     0.0  "
      ]
     },
     "execution_count": 361,
     "metadata": {},
     "output_type": "execute_result"
    }
   ],
   "source": [
    "x_train.head(3)"
   ]
  },
  {
   "cell_type": "code",
   "execution_count": 362,
   "id": "ac2493b4-ed3d-4b6b-9137-e5880d540221",
   "metadata": {
    "execution": {
     "iopub.execute_input": "2024-12-14T12:19:46.991189Z",
     "iopub.status.busy": "2024-12-14T12:19:46.990182Z",
     "iopub.status.idle": "2024-12-14T12:19:47.012949Z",
     "shell.execute_reply": "2024-12-14T12:19:47.012949Z",
     "shell.execute_reply.started": "2024-12-14T12:19:46.991189Z"
    }
   },
   "outputs": [
    {
     "data": {
      "text/html": [
       "<div>\n",
       "<style scoped>\n",
       "    .dataframe tbody tr th:only-of-type {\n",
       "        vertical-align: middle;\n",
       "    }\n",
       "\n",
       "    .dataframe tbody tr th {\n",
       "        vertical-align: top;\n",
       "    }\n",
       "\n",
       "    .dataframe thead th {\n",
       "        text-align: right;\n",
       "    }\n",
       "</style>\n",
       "<table border=\"1\" class=\"dataframe\">\n",
       "  <thead>\n",
       "    <tr style=\"text-align: right;\">\n",
       "      <th></th>\n",
       "      <th>SCALER_Annual_Income</th>\n",
       "      <th>SCALER_Credit_Score</th>\n",
       "      <th>SCALER_Previous_Claims</th>\n",
       "      <th>SCALER_Health_Score</th>\n",
       "      <th>SCALER_Policy_Start_Date_-_Month</th>\n",
       "      <th>SCALER_Age</th>\n",
       "      <th>SCALER_Number_of_Dependents</th>\n",
       "      <th>SCALER_PC1_Meaningless_df</th>\n",
       "      <th>SCALER_PC2_Meaningless_df</th>\n",
       "      <th>SCALER_ENCODED_Policy_Start_Date_-_Year</th>\n",
       "      <th>SCALER_ENCODED_Policy_Start_Date_-_Quarter</th>\n",
       "      <th>SCALER_ENCODED_Customer_Feedback</th>\n",
       "      <th>SCALER_ENCODED_Occupation_Self-Employed</th>\n",
       "      <th>SCALER_ENCODED_Occupation_Unemployed</th>\n",
       "      <th>SCALER_ENCODED_Marital_Status_Married</th>\n",
       "      <th>SCALER_ENCODED_Marital_Status_Single</th>\n",
       "    </tr>\n",
       "  </thead>\n",
       "  <tbody>\n",
       "    <tr>\n",
       "      <th>798481</th>\n",
       "      <td>0.049719</td>\n",
       "      <td>0.056034</td>\n",
       "      <td>0.0</td>\n",
       "      <td>-0.947641</td>\n",
       "      <td>0.0</td>\n",
       "      <td>1.000000</td>\n",
       "      <td>-0.5</td>\n",
       "      <td>-0.666319</td>\n",
       "      <td>-0.297438</td>\n",
       "      <td>0.333333</td>\n",
       "      <td>0.5</td>\n",
       "      <td>0.0</td>\n",
       "      <td>1.0</td>\n",
       "      <td>0.0</td>\n",
       "      <td>0.0</td>\n",
       "      <td>0.0</td>\n",
       "    </tr>\n",
       "    <tr>\n",
       "      <th>115232</th>\n",
       "      <td>1.915716</td>\n",
       "      <td>-0.030172</td>\n",
       "      <td>-1.0</td>\n",
       "      <td>0.529618</td>\n",
       "      <td>-0.6</td>\n",
       "      <td>0.782609</td>\n",
       "      <td>1.0</td>\n",
       "      <td>-0.665569</td>\n",
       "      <td>0.801850</td>\n",
       "      <td>0.666667</td>\n",
       "      <td>0.8</td>\n",
       "      <td>0.5</td>\n",
       "      <td>0.0</td>\n",
       "      <td>0.0</td>\n",
       "      <td>0.0</td>\n",
       "      <td>1.0</td>\n",
       "    </tr>\n",
       "    <tr>\n",
       "      <th>110208</th>\n",
       "      <td>0.018102</td>\n",
       "      <td>0.081897</td>\n",
       "      <td>-1.0</td>\n",
       "      <td>1.012260</td>\n",
       "      <td>0.0</td>\n",
       "      <td>-0.130435</td>\n",
       "      <td>-0.5</td>\n",
       "      <td>0.000123</td>\n",
       "      <td>-0.599540</td>\n",
       "      <td>0.666667</td>\n",
       "      <td>0.9</td>\n",
       "      <td>0.5</td>\n",
       "      <td>0.0</td>\n",
       "      <td>0.0</td>\n",
       "      <td>0.0</td>\n",
       "      <td>1.0</td>\n",
       "    </tr>\n",
       "  </tbody>\n",
       "</table>\n",
       "</div>"
      ],
      "text/plain": [
       "        SCALER_Annual_Income  SCALER_Credit_Score  SCALER_Previous_Claims  \\\n",
       "798481              0.049719             0.056034                     0.0   \n",
       "115232              1.915716            -0.030172                    -1.0   \n",
       "110208              0.018102             0.081897                    -1.0   \n",
       "\n",
       "        SCALER_Health_Score  SCALER_Policy_Start_Date_-_Month  SCALER_Age  \\\n",
       "798481            -0.947641                               0.0    1.000000   \n",
       "115232             0.529618                              -0.6    0.782609   \n",
       "110208             1.012260                               0.0   -0.130435   \n",
       "\n",
       "        SCALER_Number_of_Dependents  SCALER_PC1_Meaningless_df  \\\n",
       "798481                         -0.5                  -0.666319   \n",
       "115232                          1.0                  -0.665569   \n",
       "110208                         -0.5                   0.000123   \n",
       "\n",
       "        SCALER_PC2_Meaningless_df  SCALER_ENCODED_Policy_Start_Date_-_Year  \\\n",
       "798481                  -0.297438                                 0.333333   \n",
       "115232                   0.801850                                 0.666667   \n",
       "110208                  -0.599540                                 0.666667   \n",
       "\n",
       "        SCALER_ENCODED_Policy_Start_Date_-_Quarter  \\\n",
       "798481                                         0.5   \n",
       "115232                                         0.8   \n",
       "110208                                         0.9   \n",
       "\n",
       "        SCALER_ENCODED_Customer_Feedback  \\\n",
       "798481                               0.0   \n",
       "115232                               0.5   \n",
       "110208                               0.5   \n",
       "\n",
       "        SCALER_ENCODED_Occupation_Self-Employed  \\\n",
       "798481                                      1.0   \n",
       "115232                                      0.0   \n",
       "110208                                      0.0   \n",
       "\n",
       "        SCALER_ENCODED_Occupation_Unemployed  \\\n",
       "798481                                   0.0   \n",
       "115232                                   0.0   \n",
       "110208                                   0.0   \n",
       "\n",
       "        SCALER_ENCODED_Marital_Status_Married  \\\n",
       "798481                                    0.0   \n",
       "115232                                    0.0   \n",
       "110208                                    0.0   \n",
       "\n",
       "        SCALER_ENCODED_Marital_Status_Single  \n",
       "798481                                   0.0  \n",
       "115232                                   1.0  \n",
       "110208                                   1.0  "
      ]
     },
     "execution_count": 362,
     "metadata": {},
     "output_type": "execute_result"
    }
   ],
   "source": [
    "x_validate.head(3)"
   ]
  },
  {
   "cell_type": "code",
   "execution_count": 363,
   "id": "e136ae65-a65e-4b0f-b29b-b2d051ddb163",
   "metadata": {
    "execution": {
     "iopub.execute_input": "2024-12-14T12:20:00.495915Z",
     "iopub.status.busy": "2024-12-14T12:20:00.494924Z",
     "iopub.status.idle": "2024-12-14T12:20:00.522606Z",
     "shell.execute_reply": "2024-12-14T12:20:00.521776Z",
     "shell.execute_reply.started": "2024-12-14T12:20:00.495915Z"
    }
   },
   "outputs": [
    {
     "data": {
      "text/html": [
       "<div>\n",
       "<style scoped>\n",
       "    .dataframe tbody tr th:only-of-type {\n",
       "        vertical-align: middle;\n",
       "    }\n",
       "\n",
       "    .dataframe tbody tr th {\n",
       "        vertical-align: top;\n",
       "    }\n",
       "\n",
       "    .dataframe thead th {\n",
       "        text-align: right;\n",
       "    }\n",
       "</style>\n",
       "<table border=\"1\" class=\"dataframe\">\n",
       "  <thead>\n",
       "    <tr style=\"text-align: right;\">\n",
       "      <th></th>\n",
       "      <th>SCALER_Annual_Income</th>\n",
       "      <th>SCALER_Credit_Score</th>\n",
       "      <th>SCALER_Previous_Claims</th>\n",
       "      <th>SCALER_Health_Score</th>\n",
       "      <th>SCALER_Policy_Start_Date_-_Month</th>\n",
       "      <th>SCALER_Age</th>\n",
       "      <th>SCALER_Number_of_Dependents</th>\n",
       "      <th>SCALER_PC1_Meaningless_df</th>\n",
       "      <th>SCALER_PC2_Meaningless_df</th>\n",
       "      <th>SCALER_ENCODED_Policy_Start_Date_-_Year</th>\n",
       "      <th>SCALER_ENCODED_Policy_Start_Date_-_Quarter</th>\n",
       "      <th>SCALER_ENCODED_Customer_Feedback</th>\n",
       "      <th>SCALER_ENCODED_Occupation_Self-Employed</th>\n",
       "      <th>SCALER_ENCODED_Occupation_Unemployed</th>\n",
       "      <th>SCALER_ENCODED_Marital_Status_Married</th>\n",
       "      <th>SCALER_ENCODED_Marital_Status_Single</th>\n",
       "    </tr>\n",
       "  </thead>\n",
       "  <tbody>\n",
       "    <tr>\n",
       "      <th>1200000</th>\n",
       "      <td>-0.600366</td>\n",
       "      <td>-0.452586</td>\n",
       "      <td>1.0</td>\n",
       "      <td>-0.963373</td>\n",
       "      <td>0.0</td>\n",
       "      <td>-0.565217</td>\n",
       "      <td>1.0</td>\n",
       "      <td>-0.798720</td>\n",
       "      <td>0.901409</td>\n",
       "      <td>0.333333</td>\n",
       "      <td>0.5</td>\n",
       "      <td>-0.5</td>\n",
       "      <td>1.0</td>\n",
       "      <td>0.0</td>\n",
       "      <td>0.0</td>\n",
       "      <td>1.0</td>\n",
       "    </tr>\n",
       "    <tr>\n",
       "      <th>1200001</th>\n",
       "      <td>2.777590</td>\n",
       "      <td>-0.974138</td>\n",
       "      <td>0.0</td>\n",
       "      <td>-0.639462</td>\n",
       "      <td>-0.4</td>\n",
       "      <td>-0.434783</td>\n",
       "      <td>0.0</td>\n",
       "      <td>0.400466</td>\n",
       "      <td>0.400853</td>\n",
       "      <td>0.666667</td>\n",
       "      <td>0.9</td>\n",
       "      <td>0.5</td>\n",
       "      <td>1.0</td>\n",
       "      <td>0.0</td>\n",
       "      <td>1.0</td>\n",
       "      <td>0.0</td>\n",
       "    </tr>\n",
       "    <tr>\n",
       "      <th>1200002</th>\n",
       "      <td>-0.196773</td>\n",
       "      <td>0.952586</td>\n",
       "      <td>0.0</td>\n",
       "      <td>-0.018445</td>\n",
       "      <td>-0.4</td>\n",
       "      <td>0.260870</td>\n",
       "      <td>-1.0</td>\n",
       "      <td>-0.732419</td>\n",
       "      <td>0.602589</td>\n",
       "      <td>0.333333</td>\n",
       "      <td>0.5</td>\n",
       "      <td>0.0</td>\n",
       "      <td>0.0</td>\n",
       "      <td>1.0</td>\n",
       "      <td>0.0</td>\n",
       "      <td>0.0</td>\n",
       "    </tr>\n",
       "  </tbody>\n",
       "</table>\n",
       "</div>"
      ],
      "text/plain": [
       "         SCALER_Annual_Income  SCALER_Credit_Score  SCALER_Previous_Claims  \\\n",
       "1200000             -0.600366            -0.452586                     1.0   \n",
       "1200001              2.777590            -0.974138                     0.0   \n",
       "1200002             -0.196773             0.952586                     0.0   \n",
       "\n",
       "         SCALER_Health_Score  SCALER_Policy_Start_Date_-_Month  SCALER_Age  \\\n",
       "1200000            -0.963373                               0.0   -0.565217   \n",
       "1200001            -0.639462                              -0.4   -0.434783   \n",
       "1200002            -0.018445                              -0.4    0.260870   \n",
       "\n",
       "         SCALER_Number_of_Dependents  SCALER_PC1_Meaningless_df  \\\n",
       "1200000                          1.0                  -0.798720   \n",
       "1200001                          0.0                   0.400466   \n",
       "1200002                         -1.0                  -0.732419   \n",
       "\n",
       "         SCALER_PC2_Meaningless_df  SCALER_ENCODED_Policy_Start_Date_-_Year  \\\n",
       "1200000                   0.901409                                 0.333333   \n",
       "1200001                   0.400853                                 0.666667   \n",
       "1200002                   0.602589                                 0.333333   \n",
       "\n",
       "         SCALER_ENCODED_Policy_Start_Date_-_Quarter  \\\n",
       "1200000                                         0.5   \n",
       "1200001                                         0.9   \n",
       "1200002                                         0.5   \n",
       "\n",
       "         SCALER_ENCODED_Customer_Feedback  \\\n",
       "1200000                              -0.5   \n",
       "1200001                               0.5   \n",
       "1200002                               0.0   \n",
       "\n",
       "         SCALER_ENCODED_Occupation_Self-Employed  \\\n",
       "1200000                                      1.0   \n",
       "1200001                                      1.0   \n",
       "1200002                                      0.0   \n",
       "\n",
       "         SCALER_ENCODED_Occupation_Unemployed  \\\n",
       "1200000                                   0.0   \n",
       "1200001                                   0.0   \n",
       "1200002                                   1.0   \n",
       "\n",
       "         SCALER_ENCODED_Marital_Status_Married  \\\n",
       "1200000                                    0.0   \n",
       "1200001                                    1.0   \n",
       "1200002                                    0.0   \n",
       "\n",
       "         SCALER_ENCODED_Marital_Status_Single  \n",
       "1200000                                   1.0  \n",
       "1200001                                   0.0  \n",
       "1200002                                   0.0  "
      ]
     },
     "execution_count": 363,
     "metadata": {},
     "output_type": "execute_result"
    }
   ],
   "source": [
    "test.head(3)"
   ]
  },
  {
   "cell_type": "markdown",
   "id": "ed33859a-65a5-49d3-ba03-b2c6a8899985",
   "metadata": {},
   "source": [
    "#\n",
    "---\n",
    "#"
   ]
  },
  {
   "cell_type": "markdown",
   "id": "b4ec4659-5489-490b-99e2-21cea99a2d00",
   "metadata": {},
   "source": [
    "# Joining All Data"
   ]
  },
  {
   "cell_type": "code",
   "execution_count": 373,
   "id": "f0bec899-98cc-496a-b96f-cda9caaff8bd",
   "metadata": {
    "execution": {
     "iopub.execute_input": "2024-12-14T12:23:54.432981Z",
     "iopub.status.busy": "2024-12-14T12:23:54.431963Z",
     "iopub.status.idle": "2024-12-14T12:23:55.235523Z",
     "shell.execute_reply": "2024-12-14T12:23:55.235523Z",
     "shell.execute_reply.started": "2024-12-14T12:23:54.432981Z"
    }
   },
   "outputs": [
    {
     "data": {
      "text/html": [
       "<div>\n",
       "<style scoped>\n",
       "    .dataframe tbody tr th:only-of-type {\n",
       "        vertical-align: middle;\n",
       "    }\n",
       "\n",
       "    .dataframe tbody tr th {\n",
       "        vertical-align: top;\n",
       "    }\n",
       "\n",
       "    .dataframe thead th {\n",
       "        text-align: right;\n",
       "    }\n",
       "</style>\n",
       "<table border=\"1\" class=\"dataframe\">\n",
       "  <thead>\n",
       "    <tr style=\"text-align: right;\">\n",
       "      <th></th>\n",
       "      <th>SCALER_Annual_Income</th>\n",
       "      <th>SCALER_Credit_Score</th>\n",
       "      <th>SCALER_Previous_Claims</th>\n",
       "      <th>SCALER_Health_Score</th>\n",
       "      <th>SCALER_Policy_Start_Date_-_Month</th>\n",
       "      <th>SCALER_Age</th>\n",
       "      <th>SCALER_Number_of_Dependents</th>\n",
       "      <th>SCALER_PC1_Meaningless_df</th>\n",
       "      <th>SCALER_PC2_Meaningless_df</th>\n",
       "      <th>SCALER_ENCODED_Policy_Start_Date_-_Year</th>\n",
       "      <th>SCALER_ENCODED_Policy_Start_Date_-_Quarter</th>\n",
       "      <th>SCALER_ENCODED_Customer_Feedback</th>\n",
       "      <th>SCALER_ENCODED_Occupation_Self-Employed</th>\n",
       "      <th>SCALER_ENCODED_Occupation_Unemployed</th>\n",
       "      <th>SCALER_ENCODED_Marital_Status_Married</th>\n",
       "      <th>SCALER_ENCODED_Marital_Status_Single</th>\n",
       "      <th>Premium Amount</th>\n",
       "    </tr>\n",
       "  </thead>\n",
       "  <tbody>\n",
       "    <tr>\n",
       "      <th>0</th>\n",
       "      <td>-0.389068</td>\n",
       "      <td>-0.974138</td>\n",
       "      <td>1.0</td>\n",
       "      <td>-0.117811</td>\n",
       "      <td>1.2</td>\n",
       "      <td>-0.956522</td>\n",
       "      <td>-0.5</td>\n",
       "      <td>0.467370</td>\n",
       "      <td>0.700273</td>\n",
       "      <td>0.333333</td>\n",
       "      <td>0.7</td>\n",
       "      <td>-0.5</td>\n",
       "      <td>1.0</td>\n",
       "      <td>0.0</td>\n",
       "      <td>1.0</td>\n",
       "      <td>0.0</td>\n",
       "      <td>2869.0</td>\n",
       "    </tr>\n",
       "    <tr>\n",
       "      <th>1</th>\n",
       "      <td>0.201469</td>\n",
       "      <td>0.413793</td>\n",
       "      <td>0.0</td>\n",
       "      <td>-0.515614</td>\n",
       "      <td>0.0</td>\n",
       "      <td>-0.086957</td>\n",
       "      <td>0.5</td>\n",
       "      <td>-0.266006</td>\n",
       "      <td>0.200902</td>\n",
       "      <td>0.333333</td>\n",
       "      <td>0.5</td>\n",
       "      <td>0.0</td>\n",
       "      <td>1.0</td>\n",
       "      <td>0.0</td>\n",
       "      <td>0.0</td>\n",
       "      <td>0.0</td>\n",
       "      <td>1483.0</td>\n",
       "    </tr>\n",
       "    <tr>\n",
       "      <th>2</th>\n",
       "      <td>0.035576</td>\n",
       "      <td>-0.185345</td>\n",
       "      <td>0.0</td>\n",
       "      <td>1.273207</td>\n",
       "      <td>0.6</td>\n",
       "      <td>-0.782609</td>\n",
       "      <td>0.5</td>\n",
       "      <td>0.933745</td>\n",
       "      <td>0.399349</td>\n",
       "      <td>0.333333</td>\n",
       "      <td>0.6</td>\n",
       "      <td>0.5</td>\n",
       "      <td>1.0</td>\n",
       "      <td>0.0</td>\n",
       "      <td>0.0</td>\n",
       "      <td>0.0</td>\n",
       "      <td>567.0</td>\n",
       "    </tr>\n",
       "  </tbody>\n",
       "</table>\n",
       "</div>"
      ],
      "text/plain": [
       "   SCALER_Annual_Income  SCALER_Credit_Score  SCALER_Previous_Claims  \\\n",
       "0             -0.389068            -0.974138                     1.0   \n",
       "1              0.201469             0.413793                     0.0   \n",
       "2              0.035576            -0.185345                     0.0   \n",
       "\n",
       "   SCALER_Health_Score  SCALER_Policy_Start_Date_-_Month  SCALER_Age  \\\n",
       "0            -0.117811                               1.2   -0.956522   \n",
       "1            -0.515614                               0.0   -0.086957   \n",
       "2             1.273207                               0.6   -0.782609   \n",
       "\n",
       "   SCALER_Number_of_Dependents  SCALER_PC1_Meaningless_df  \\\n",
       "0                         -0.5                   0.467370   \n",
       "1                          0.5                  -0.266006   \n",
       "2                          0.5                   0.933745   \n",
       "\n",
       "   SCALER_PC2_Meaningless_df  SCALER_ENCODED_Policy_Start_Date_-_Year  \\\n",
       "0                   0.700273                                 0.333333   \n",
       "1                   0.200902                                 0.333333   \n",
       "2                   0.399349                                 0.333333   \n",
       "\n",
       "   SCALER_ENCODED_Policy_Start_Date_-_Quarter  \\\n",
       "0                                         0.7   \n",
       "1                                         0.5   \n",
       "2                                         0.6   \n",
       "\n",
       "   SCALER_ENCODED_Customer_Feedback  SCALER_ENCODED_Occupation_Self-Employed  \\\n",
       "0                              -0.5                                      1.0   \n",
       "1                               0.0                                      1.0   \n",
       "2                               0.5                                      1.0   \n",
       "\n",
       "   SCALER_ENCODED_Occupation_Unemployed  \\\n",
       "0                                   0.0   \n",
       "1                                   0.0   \n",
       "2                                   0.0   \n",
       "\n",
       "   SCALER_ENCODED_Marital_Status_Married  \\\n",
       "0                                    1.0   \n",
       "1                                    0.0   \n",
       "2                                    0.0   \n",
       "\n",
       "   SCALER_ENCODED_Marital_Status_Single  Premium Amount  \n",
       "0                                   0.0          2869.0  \n",
       "1                                   0.0          1483.0  \n",
       "2                                   0.0           567.0  "
      ]
     },
     "execution_count": 373,
     "metadata": {},
     "output_type": "execute_result"
    }
   ],
   "source": [
    "train = pd.concat([pd.concat([x_train, y_train], axis=1), pd.concat([x_validate, y_validate], axis=1)]).sort_index()\n",
    "train.head(3)"
   ]
  },
  {
   "cell_type": "code",
   "execution_count": 374,
   "id": "8015e871-43b6-4964-a857-f17217decbc8",
   "metadata": {
    "execution": {
     "iopub.execute_input": "2024-12-14T12:24:00.081161Z",
     "iopub.status.busy": "2024-12-14T12:24:00.080159Z",
     "iopub.status.idle": "2024-12-14T12:24:00.105634Z",
     "shell.execute_reply": "2024-12-14T12:24:00.105199Z",
     "shell.execute_reply.started": "2024-12-14T12:24:00.081161Z"
    }
   },
   "outputs": [
    {
     "data": {
      "text/html": [
       "<div>\n",
       "<style scoped>\n",
       "    .dataframe tbody tr th:only-of-type {\n",
       "        vertical-align: middle;\n",
       "    }\n",
       "\n",
       "    .dataframe tbody tr th {\n",
       "        vertical-align: top;\n",
       "    }\n",
       "\n",
       "    .dataframe thead th {\n",
       "        text-align: right;\n",
       "    }\n",
       "</style>\n",
       "<table border=\"1\" class=\"dataframe\">\n",
       "  <thead>\n",
       "    <tr style=\"text-align: right;\">\n",
       "      <th></th>\n",
       "      <th>SCALER_Annual_Income</th>\n",
       "      <th>SCALER_Credit_Score</th>\n",
       "      <th>SCALER_Previous_Claims</th>\n",
       "      <th>SCALER_Health_Score</th>\n",
       "      <th>SCALER_Policy_Start_Date_-_Month</th>\n",
       "      <th>SCALER_Age</th>\n",
       "      <th>SCALER_Number_of_Dependents</th>\n",
       "      <th>SCALER_PC1_Meaningless_df</th>\n",
       "      <th>SCALER_PC2_Meaningless_df</th>\n",
       "      <th>SCALER_ENCODED_Policy_Start_Date_-_Year</th>\n",
       "      <th>SCALER_ENCODED_Policy_Start_Date_-_Quarter</th>\n",
       "      <th>SCALER_ENCODED_Customer_Feedback</th>\n",
       "      <th>SCALER_ENCODED_Occupation_Self-Employed</th>\n",
       "      <th>SCALER_ENCODED_Occupation_Unemployed</th>\n",
       "      <th>SCALER_ENCODED_Marital_Status_Married</th>\n",
       "      <th>SCALER_ENCODED_Marital_Status_Single</th>\n",
       "    </tr>\n",
       "  </thead>\n",
       "  <tbody>\n",
       "    <tr>\n",
       "      <th>1200000</th>\n",
       "      <td>-0.600366</td>\n",
       "      <td>-0.452586</td>\n",
       "      <td>1.0</td>\n",
       "      <td>-0.963373</td>\n",
       "      <td>0.0</td>\n",
       "      <td>-0.565217</td>\n",
       "      <td>1.0</td>\n",
       "      <td>-0.798720</td>\n",
       "      <td>0.901409</td>\n",
       "      <td>0.333333</td>\n",
       "      <td>0.5</td>\n",
       "      <td>-0.5</td>\n",
       "      <td>1.0</td>\n",
       "      <td>0.0</td>\n",
       "      <td>0.0</td>\n",
       "      <td>1.0</td>\n",
       "    </tr>\n",
       "    <tr>\n",
       "      <th>1200001</th>\n",
       "      <td>2.777590</td>\n",
       "      <td>-0.974138</td>\n",
       "      <td>0.0</td>\n",
       "      <td>-0.639462</td>\n",
       "      <td>-0.4</td>\n",
       "      <td>-0.434783</td>\n",
       "      <td>0.0</td>\n",
       "      <td>0.400466</td>\n",
       "      <td>0.400853</td>\n",
       "      <td>0.666667</td>\n",
       "      <td>0.9</td>\n",
       "      <td>0.5</td>\n",
       "      <td>1.0</td>\n",
       "      <td>0.0</td>\n",
       "      <td>1.0</td>\n",
       "      <td>0.0</td>\n",
       "    </tr>\n",
       "    <tr>\n",
       "      <th>1200002</th>\n",
       "      <td>-0.196773</td>\n",
       "      <td>0.952586</td>\n",
       "      <td>0.0</td>\n",
       "      <td>-0.018445</td>\n",
       "      <td>-0.4</td>\n",
       "      <td>0.260870</td>\n",
       "      <td>-1.0</td>\n",
       "      <td>-0.732419</td>\n",
       "      <td>0.602589</td>\n",
       "      <td>0.333333</td>\n",
       "      <td>0.5</td>\n",
       "      <td>0.0</td>\n",
       "      <td>0.0</td>\n",
       "      <td>1.0</td>\n",
       "      <td>0.0</td>\n",
       "      <td>0.0</td>\n",
       "    </tr>\n",
       "  </tbody>\n",
       "</table>\n",
       "</div>"
      ],
      "text/plain": [
       "         SCALER_Annual_Income  SCALER_Credit_Score  SCALER_Previous_Claims  \\\n",
       "1200000             -0.600366            -0.452586                     1.0   \n",
       "1200001              2.777590            -0.974138                     0.0   \n",
       "1200002             -0.196773             0.952586                     0.0   \n",
       "\n",
       "         SCALER_Health_Score  SCALER_Policy_Start_Date_-_Month  SCALER_Age  \\\n",
       "1200000            -0.963373                               0.0   -0.565217   \n",
       "1200001            -0.639462                              -0.4   -0.434783   \n",
       "1200002            -0.018445                              -0.4    0.260870   \n",
       "\n",
       "         SCALER_Number_of_Dependents  SCALER_PC1_Meaningless_df  \\\n",
       "1200000                          1.0                  -0.798720   \n",
       "1200001                          0.0                   0.400466   \n",
       "1200002                         -1.0                  -0.732419   \n",
       "\n",
       "         SCALER_PC2_Meaningless_df  SCALER_ENCODED_Policy_Start_Date_-_Year  \\\n",
       "1200000                   0.901409                                 0.333333   \n",
       "1200001                   0.400853                                 0.666667   \n",
       "1200002                   0.602589                                 0.333333   \n",
       "\n",
       "         SCALER_ENCODED_Policy_Start_Date_-_Quarter  \\\n",
       "1200000                                         0.5   \n",
       "1200001                                         0.9   \n",
       "1200002                                         0.5   \n",
       "\n",
       "         SCALER_ENCODED_Customer_Feedback  \\\n",
       "1200000                              -0.5   \n",
       "1200001                               0.5   \n",
       "1200002                               0.0   \n",
       "\n",
       "         SCALER_ENCODED_Occupation_Self-Employed  \\\n",
       "1200000                                      1.0   \n",
       "1200001                                      1.0   \n",
       "1200002                                      0.0   \n",
       "\n",
       "         SCALER_ENCODED_Occupation_Unemployed  \\\n",
       "1200000                                   0.0   \n",
       "1200001                                   0.0   \n",
       "1200002                                   1.0   \n",
       "\n",
       "         SCALER_ENCODED_Marital_Status_Married  \\\n",
       "1200000                                    0.0   \n",
       "1200001                                    1.0   \n",
       "1200002                                    0.0   \n",
       "\n",
       "         SCALER_ENCODED_Marital_Status_Single  \n",
       "1200000                                   1.0  \n",
       "1200001                                   0.0  \n",
       "1200002                                   0.0  "
      ]
     },
     "execution_count": 374,
     "metadata": {},
     "output_type": "execute_result"
    }
   ],
   "source": [
    "test.head(3)"
   ]
  },
  {
   "cell_type": "code",
   "execution_count": 376,
   "id": "6bf254fe-845e-4add-8882-022908dab57b",
   "metadata": {
    "execution": {
     "iopub.execute_input": "2024-12-14T12:24:49.055855Z",
     "iopub.status.busy": "2024-12-14T12:24:49.054864Z",
     "iopub.status.idle": "2024-12-14T12:24:49.181398Z",
     "shell.execute_reply": "2024-12-14T12:24:49.181398Z",
     "shell.execute_reply.started": "2024-12-14T12:24:49.055855Z"
    }
   },
   "outputs": [],
   "source": [
    "df = pd.concat([train, test])"
   ]
  },
  {
   "cell_type": "markdown",
   "id": "066436c1-d7bb-4f91-b231-20bc7f0f9302",
   "metadata": {},
   "source": [
    "#\n",
    "---\n",
    "#"
   ]
  },
  {
   "cell_type": "markdown",
   "id": "5dd3c71f-7ebd-4bb3-9035-1a3b46b3fd6b",
   "metadata": {},
   "source": [
    "# Download the `Model Ready df`"
   ]
  },
  {
   "cell_type": "code",
   "execution_count": 377,
   "id": "0cc40c0b-ca75-4045-8c1e-1fbc065dedd1",
   "metadata": {
    "execution": {
     "iopub.execute_input": "2024-12-14T12:26:13.469252Z",
     "iopub.status.busy": "2024-12-14T12:26:13.469252Z",
     "iopub.status.idle": "2024-12-14T12:26:38.968178Z",
     "shell.execute_reply": "2024-12-14T12:26:38.967170Z",
     "shell.execute_reply.started": "2024-12-14T12:26:13.469252Z"
    }
   },
   "outputs": [],
   "source": [
    "df.to_csv(\"trainable_df.csv\", index=False)"
   ]
  },
  {
   "cell_type": "code",
   "execution_count": null,
   "id": "5c4d937c-da9f-4d0e-af3f-d9eb1f85c415",
   "metadata": {},
   "outputs": [],
   "source": []
  }
 ],
 "metadata": {
  "kernelspec": {
   "display_name": "Python 3 (ipykernel)",
   "language": "python",
   "name": "python3"
  },
  "language_info": {
   "codemirror_mode": {
    "name": "ipython",
    "version": 3
   },
   "file_extension": ".py",
   "mimetype": "text/x-python",
   "name": "python",
   "nbconvert_exporter": "python",
   "pygments_lexer": "ipython3",
   "version": "3.12.7"
  }
 },
 "nbformat": 4,
 "nbformat_minor": 5
}
